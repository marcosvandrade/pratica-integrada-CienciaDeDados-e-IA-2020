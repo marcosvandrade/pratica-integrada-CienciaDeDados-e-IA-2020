{
 "metadata": {
  "language_info": {
   "codemirror_mode": {
    "name": "ipython",
    "version": 3
   },
   "file_extension": ".py",
   "mimetype": "text/x-python",
   "name": "python",
   "nbconvert_exporter": "python",
   "pygments_lexer": "ipython3",
   "version": "3.8.5-final"
  },
  "orig_nbformat": 2,
  "kernelspec": {
   "name": "Python 3.8.5 64-bit",
   "display_name": "Python 3.8.5 64-bit",
   "metadata": {
    "interpreter": {
     "hash": "5b93c7d2641c620ea3a1a94007b995529962ea5a20273563198d6021783bfed8"
    }
   }
  }
 },
 "nbformat": 4,
 "nbformat_minor": 2,
 "cells": [
  {
   "cell_type": "code",
   "execution_count": 2,
   "metadata": {},
   "outputs": [],
   "source": [
    "import pandas as pd\n",
    "import numpy as np"
   ]
  },
  {
   "source": [
    "1. Carregar o seu arquivo df_OVNI_limpo.csv (arquivo gerado após a limpeza de dados efetuada na atividade)"
   ],
   "cell_type": "markdown",
   "metadata": {}
  },
  {
   "cell_type": "code",
   "execution_count": 4,
   "metadata": {},
   "outputs": [
    {
     "output_type": "execute_result",
     "data": {
      "text/plain": "           date_time              city state      shape\n0      9/22/97 20:00   Solomons Island    MD       Disk\n1            9/19/97      Garden Grove    CA  Rectangle\n2      9/15/97 00:00           Houston    TX       Disk\n3      9/15/97 20:00          Santa Fe    NM      Light\n4      9/15/97 20:00              Kent    WA     Sphere\n...              ...               ...   ...        ...\n54875   8/1/17 06:15  Columbus (North)    GA   Fireball\n54876   8/1/17 02:45          Corcoran    MN      Light\n54877   8/1/17 02:00     Moreno Valley    CA      Other\n54878   8/1/17 01:00         Bradenton    FL      Other\n54879         8/1/17            Laurel    MD      Other\n\n[54880 rows x 4 columns]",
      "text/html": "<div>\n<style scoped>\n    .dataframe tbody tr th:only-of-type {\n        vertical-align: middle;\n    }\n\n    .dataframe tbody tr th {\n        vertical-align: top;\n    }\n\n    .dataframe thead th {\n        text-align: right;\n    }\n</style>\n<table border=\"1\" class=\"dataframe\">\n  <thead>\n    <tr style=\"text-align: right;\">\n      <th></th>\n      <th>date_time</th>\n      <th>city</th>\n      <th>state</th>\n      <th>shape</th>\n    </tr>\n  </thead>\n  <tbody>\n    <tr>\n      <th>0</th>\n      <td>9/22/97 20:00</td>\n      <td>Solomons Island</td>\n      <td>MD</td>\n      <td>Disk</td>\n    </tr>\n    <tr>\n      <th>1</th>\n      <td>9/19/97</td>\n      <td>Garden Grove</td>\n      <td>CA</td>\n      <td>Rectangle</td>\n    </tr>\n    <tr>\n      <th>2</th>\n      <td>9/15/97 00:00</td>\n      <td>Houston</td>\n      <td>TX</td>\n      <td>Disk</td>\n    </tr>\n    <tr>\n      <th>3</th>\n      <td>9/15/97 20:00</td>\n      <td>Santa Fe</td>\n      <td>NM</td>\n      <td>Light</td>\n    </tr>\n    <tr>\n      <th>4</th>\n      <td>9/15/97 20:00</td>\n      <td>Kent</td>\n      <td>WA</td>\n      <td>Sphere</td>\n    </tr>\n    <tr>\n      <th>...</th>\n      <td>...</td>\n      <td>...</td>\n      <td>...</td>\n      <td>...</td>\n    </tr>\n    <tr>\n      <th>54875</th>\n      <td>8/1/17 06:15</td>\n      <td>Columbus (North)</td>\n      <td>GA</td>\n      <td>Fireball</td>\n    </tr>\n    <tr>\n      <th>54876</th>\n      <td>8/1/17 02:45</td>\n      <td>Corcoran</td>\n      <td>MN</td>\n      <td>Light</td>\n    </tr>\n    <tr>\n      <th>54877</th>\n      <td>8/1/17 02:00</td>\n      <td>Moreno Valley</td>\n      <td>CA</td>\n      <td>Other</td>\n    </tr>\n    <tr>\n      <th>54878</th>\n      <td>8/1/17 01:00</td>\n      <td>Bradenton</td>\n      <td>FL</td>\n      <td>Other</td>\n    </tr>\n    <tr>\n      <th>54879</th>\n      <td>8/1/17</td>\n      <td>Laurel</td>\n      <td>MD</td>\n      <td>Other</td>\n    </tr>\n  </tbody>\n</table>\n<p>54880 rows × 4 columns</p>\n</div>"
     },
     "metadata": {},
     "execution_count": 4
    }
   ],
   "source": [
    "df_OVNI_limpo = pd.read_csv('../5.7-Limpeza-de-dados/df_OVNI_limpo.csv')\n",
    "df_OVNI_limpo"
   ]
  },
  {
   "source": [
    "2. Dividir o conteúdo da coluna Date / Time em duas novas colunas no mesmo dataframe e deletar a coluna Date / Time ."
   ],
   "cell_type": "markdown",
   "metadata": {}
  },
  {
   "cell_type": "code",
   "execution_count": 5,
   "metadata": {
    "tags": []
   },
   "outputs": [
    {
     "output_type": "execute_result",
     "data": {
      "text/plain": "0        1997-09-22\n1        1997-09-19\n2        1997-09-15\n3        1997-09-15\n4        1997-09-15\n            ...    \n54875    2017-08-01\n54876    2017-08-01\n54877    2017-08-01\n54878    2017-08-01\n54879    2017-08-01\nName: date_time, Length: 54880, dtype: object"
     },
     "metadata": {},
     "execution_count": 5
    }
   ],
   "source": [
    "#convertendo o tipo da coluna date_time de object para datetime\n",
    "df_OVNI_limpo[\"date_time\"] = pd.to_datetime(df_OVNI_limpo[\"date_time\"])\n",
    "#df_OVNI_limpo[\"date_time\"].dt.weekday_name\n",
    "df_OVNI_limpo[\"date_time\"].dt.date"
   ]
  },
  {
   "cell_type": "code",
   "execution_count": 6,
   "metadata": {},
   "outputs": [
    {
     "output_type": "execute_result",
     "data": {
      "text/plain": "                date_time              city state      shape  Sight_Date\n0     1997-09-22 20:00:00   Solomons Island    MD       Disk  1997-09-22\n1     1997-09-19 00:00:00      Garden Grove    CA  Rectangle  1997-09-19\n2     1997-09-15 00:00:00           Houston    TX       Disk  1997-09-15\n3     1997-09-15 20:00:00          Santa Fe    NM      Light  1997-09-15\n4     1997-09-15 20:00:00              Kent    WA     Sphere  1997-09-15\n...                   ...               ...   ...        ...         ...\n54875 2017-08-01 06:15:00  Columbus (North)    GA   Fireball  2017-08-01\n54876 2017-08-01 02:45:00          Corcoran    MN      Light  2017-08-01\n54877 2017-08-01 02:00:00     Moreno Valley    CA      Other  2017-08-01\n54878 2017-08-01 01:00:00         Bradenton    FL      Other  2017-08-01\n54879 2017-08-01 00:00:00            Laurel    MD      Other  2017-08-01\n\n[54880 rows x 5 columns]",
      "text/html": "<div>\n<style scoped>\n    .dataframe tbody tr th:only-of-type {\n        vertical-align: middle;\n    }\n\n    .dataframe tbody tr th {\n        vertical-align: top;\n    }\n\n    .dataframe thead th {\n        text-align: right;\n    }\n</style>\n<table border=\"1\" class=\"dataframe\">\n  <thead>\n    <tr style=\"text-align: right;\">\n      <th></th>\n      <th>date_time</th>\n      <th>city</th>\n      <th>state</th>\n      <th>shape</th>\n      <th>Sight_Date</th>\n    </tr>\n  </thead>\n  <tbody>\n    <tr>\n      <th>0</th>\n      <td>1997-09-22 20:00:00</td>\n      <td>Solomons Island</td>\n      <td>MD</td>\n      <td>Disk</td>\n      <td>1997-09-22</td>\n    </tr>\n    <tr>\n      <th>1</th>\n      <td>1997-09-19 00:00:00</td>\n      <td>Garden Grove</td>\n      <td>CA</td>\n      <td>Rectangle</td>\n      <td>1997-09-19</td>\n    </tr>\n    <tr>\n      <th>2</th>\n      <td>1997-09-15 00:00:00</td>\n      <td>Houston</td>\n      <td>TX</td>\n      <td>Disk</td>\n      <td>1997-09-15</td>\n    </tr>\n    <tr>\n      <th>3</th>\n      <td>1997-09-15 20:00:00</td>\n      <td>Santa Fe</td>\n      <td>NM</td>\n      <td>Light</td>\n      <td>1997-09-15</td>\n    </tr>\n    <tr>\n      <th>4</th>\n      <td>1997-09-15 20:00:00</td>\n      <td>Kent</td>\n      <td>WA</td>\n      <td>Sphere</td>\n      <td>1997-09-15</td>\n    </tr>\n    <tr>\n      <th>...</th>\n      <td>...</td>\n      <td>...</td>\n      <td>...</td>\n      <td>...</td>\n      <td>...</td>\n    </tr>\n    <tr>\n      <th>54875</th>\n      <td>2017-08-01 06:15:00</td>\n      <td>Columbus (North)</td>\n      <td>GA</td>\n      <td>Fireball</td>\n      <td>2017-08-01</td>\n    </tr>\n    <tr>\n      <th>54876</th>\n      <td>2017-08-01 02:45:00</td>\n      <td>Corcoran</td>\n      <td>MN</td>\n      <td>Light</td>\n      <td>2017-08-01</td>\n    </tr>\n    <tr>\n      <th>54877</th>\n      <td>2017-08-01 02:00:00</td>\n      <td>Moreno Valley</td>\n      <td>CA</td>\n      <td>Other</td>\n      <td>2017-08-01</td>\n    </tr>\n    <tr>\n      <th>54878</th>\n      <td>2017-08-01 01:00:00</td>\n      <td>Bradenton</td>\n      <td>FL</td>\n      <td>Other</td>\n      <td>2017-08-01</td>\n    </tr>\n    <tr>\n      <th>54879</th>\n      <td>2017-08-01 00:00:00</td>\n      <td>Laurel</td>\n      <td>MD</td>\n      <td>Other</td>\n      <td>2017-08-01</td>\n    </tr>\n  </tbody>\n</table>\n<p>54880 rows × 5 columns</p>\n</div>"
     },
     "metadata": {},
     "execution_count": 6
    }
   ],
   "source": [
    "#criando a coluna com a data\n",
    "df_OVNI_limpo['Sight_Date'] = df_OVNI_limpo[\"date_time\"].dt.date\n",
    "df_OVNI_limpo\n",
    "    "
   ]
  },
  {
   "cell_type": "code",
   "execution_count": 8,
   "metadata": {},
   "outputs": [
    {
     "output_type": "execute_result",
     "data": {
      "text/plain": "                date_time              city state      shape  Sight_Date  \\\n0     1997-09-22 20:00:00   Solomons Island    MD       Disk  1997-09-22   \n1     1997-09-19 00:00:00      Garden Grove    CA  Rectangle  1997-09-19   \n2     1997-09-15 00:00:00           Houston    TX       Disk  1997-09-15   \n3     1997-09-15 20:00:00          Santa Fe    NM      Light  1997-09-15   \n4     1997-09-15 20:00:00              Kent    WA     Sphere  1997-09-15   \n...                   ...               ...   ...        ...         ...   \n54875 2017-08-01 06:15:00  Columbus (North)    GA   Fireball  2017-08-01   \n54876 2017-08-01 02:45:00          Corcoran    MN      Light  2017-08-01   \n54877 2017-08-01 02:00:00     Moreno Valley    CA      Other  2017-08-01   \n54878 2017-08-01 01:00:00         Bradenton    FL      Other  2017-08-01   \n54879 2017-08-01 00:00:00            Laurel    MD      Other  2017-08-01   \n\n      Sight_Time  \n0       20:00:00  \n1       00:00:00  \n2       00:00:00  \n3       20:00:00  \n4       20:00:00  \n...          ...  \n54875   06:15:00  \n54876   02:45:00  \n54877   02:00:00  \n54878   01:00:00  \n54879   00:00:00  \n\n[54880 rows x 6 columns]",
      "text/html": "<div>\n<style scoped>\n    .dataframe tbody tr th:only-of-type {\n        vertical-align: middle;\n    }\n\n    .dataframe tbody tr th {\n        vertical-align: top;\n    }\n\n    .dataframe thead th {\n        text-align: right;\n    }\n</style>\n<table border=\"1\" class=\"dataframe\">\n  <thead>\n    <tr style=\"text-align: right;\">\n      <th></th>\n      <th>date_time</th>\n      <th>city</th>\n      <th>state</th>\n      <th>shape</th>\n      <th>Sight_Date</th>\n      <th>Sight_Time</th>\n    </tr>\n  </thead>\n  <tbody>\n    <tr>\n      <th>0</th>\n      <td>1997-09-22 20:00:00</td>\n      <td>Solomons Island</td>\n      <td>MD</td>\n      <td>Disk</td>\n      <td>1997-09-22</td>\n      <td>20:00:00</td>\n    </tr>\n    <tr>\n      <th>1</th>\n      <td>1997-09-19 00:00:00</td>\n      <td>Garden Grove</td>\n      <td>CA</td>\n      <td>Rectangle</td>\n      <td>1997-09-19</td>\n      <td>00:00:00</td>\n    </tr>\n    <tr>\n      <th>2</th>\n      <td>1997-09-15 00:00:00</td>\n      <td>Houston</td>\n      <td>TX</td>\n      <td>Disk</td>\n      <td>1997-09-15</td>\n      <td>00:00:00</td>\n    </tr>\n    <tr>\n      <th>3</th>\n      <td>1997-09-15 20:00:00</td>\n      <td>Santa Fe</td>\n      <td>NM</td>\n      <td>Light</td>\n      <td>1997-09-15</td>\n      <td>20:00:00</td>\n    </tr>\n    <tr>\n      <th>4</th>\n      <td>1997-09-15 20:00:00</td>\n      <td>Kent</td>\n      <td>WA</td>\n      <td>Sphere</td>\n      <td>1997-09-15</td>\n      <td>20:00:00</td>\n    </tr>\n    <tr>\n      <th>...</th>\n      <td>...</td>\n      <td>...</td>\n      <td>...</td>\n      <td>...</td>\n      <td>...</td>\n      <td>...</td>\n    </tr>\n    <tr>\n      <th>54875</th>\n      <td>2017-08-01 06:15:00</td>\n      <td>Columbus (North)</td>\n      <td>GA</td>\n      <td>Fireball</td>\n      <td>2017-08-01</td>\n      <td>06:15:00</td>\n    </tr>\n    <tr>\n      <th>54876</th>\n      <td>2017-08-01 02:45:00</td>\n      <td>Corcoran</td>\n      <td>MN</td>\n      <td>Light</td>\n      <td>2017-08-01</td>\n      <td>02:45:00</td>\n    </tr>\n    <tr>\n      <th>54877</th>\n      <td>2017-08-01 02:00:00</td>\n      <td>Moreno Valley</td>\n      <td>CA</td>\n      <td>Other</td>\n      <td>2017-08-01</td>\n      <td>02:00:00</td>\n    </tr>\n    <tr>\n      <th>54878</th>\n      <td>2017-08-01 01:00:00</td>\n      <td>Bradenton</td>\n      <td>FL</td>\n      <td>Other</td>\n      <td>2017-08-01</td>\n      <td>01:00:00</td>\n    </tr>\n    <tr>\n      <th>54879</th>\n      <td>2017-08-01 00:00:00</td>\n      <td>Laurel</td>\n      <td>MD</td>\n      <td>Other</td>\n      <td>2017-08-01</td>\n      <td>00:00:00</td>\n    </tr>\n  </tbody>\n</table>\n<p>54880 rows × 6 columns</p>\n</div>"
     },
     "metadata": {},
     "execution_count": 8
    }
   ],
   "source": [
    "#criando a coluna com a hora\n",
    "df_OVNI_limpo['Sight_Time'] = df_OVNI_limpo[\"date_time\"].dt.time\n",
    "df_OVNI_limpo"
   ]
  },
  {
   "cell_type": "code",
   "execution_count": 9,
   "metadata": {},
   "outputs": [
    {
     "output_type": "execute_result",
     "data": {
      "text/plain": "                   city state      shape  Sight_Date Sight_Time\n0       Solomons Island    MD       Disk  1997-09-22   20:00:00\n1          Garden Grove    CA  Rectangle  1997-09-19   00:00:00\n2               Houston    TX       Disk  1997-09-15   00:00:00\n3              Santa Fe    NM      Light  1997-09-15   20:00:00\n4                  Kent    WA     Sphere  1997-09-15   20:00:00\n...                 ...   ...        ...         ...        ...\n54875  Columbus (North)    GA   Fireball  2017-08-01   06:15:00\n54876          Corcoran    MN      Light  2017-08-01   02:45:00\n54877     Moreno Valley    CA      Other  2017-08-01   02:00:00\n54878         Bradenton    FL      Other  2017-08-01   01:00:00\n54879            Laurel    MD      Other  2017-08-01   00:00:00\n\n[54880 rows x 5 columns]",
      "text/html": "<div>\n<style scoped>\n    .dataframe tbody tr th:only-of-type {\n        vertical-align: middle;\n    }\n\n    .dataframe tbody tr th {\n        vertical-align: top;\n    }\n\n    .dataframe thead th {\n        text-align: right;\n    }\n</style>\n<table border=\"1\" class=\"dataframe\">\n  <thead>\n    <tr style=\"text-align: right;\">\n      <th></th>\n      <th>city</th>\n      <th>state</th>\n      <th>shape</th>\n      <th>Sight_Date</th>\n      <th>Sight_Time</th>\n    </tr>\n  </thead>\n  <tbody>\n    <tr>\n      <th>0</th>\n      <td>Solomons Island</td>\n      <td>MD</td>\n      <td>Disk</td>\n      <td>1997-09-22</td>\n      <td>20:00:00</td>\n    </tr>\n    <tr>\n      <th>1</th>\n      <td>Garden Grove</td>\n      <td>CA</td>\n      <td>Rectangle</td>\n      <td>1997-09-19</td>\n      <td>00:00:00</td>\n    </tr>\n    <tr>\n      <th>2</th>\n      <td>Houston</td>\n      <td>TX</td>\n      <td>Disk</td>\n      <td>1997-09-15</td>\n      <td>00:00:00</td>\n    </tr>\n    <tr>\n      <th>3</th>\n      <td>Santa Fe</td>\n      <td>NM</td>\n      <td>Light</td>\n      <td>1997-09-15</td>\n      <td>20:00:00</td>\n    </tr>\n    <tr>\n      <th>4</th>\n      <td>Kent</td>\n      <td>WA</td>\n      <td>Sphere</td>\n      <td>1997-09-15</td>\n      <td>20:00:00</td>\n    </tr>\n    <tr>\n      <th>...</th>\n      <td>...</td>\n      <td>...</td>\n      <td>...</td>\n      <td>...</td>\n      <td>...</td>\n    </tr>\n    <tr>\n      <th>54875</th>\n      <td>Columbus (North)</td>\n      <td>GA</td>\n      <td>Fireball</td>\n      <td>2017-08-01</td>\n      <td>06:15:00</td>\n    </tr>\n    <tr>\n      <th>54876</th>\n      <td>Corcoran</td>\n      <td>MN</td>\n      <td>Light</td>\n      <td>2017-08-01</td>\n      <td>02:45:00</td>\n    </tr>\n    <tr>\n      <th>54877</th>\n      <td>Moreno Valley</td>\n      <td>CA</td>\n      <td>Other</td>\n      <td>2017-08-01</td>\n      <td>02:00:00</td>\n    </tr>\n    <tr>\n      <th>54878</th>\n      <td>Bradenton</td>\n      <td>FL</td>\n      <td>Other</td>\n      <td>2017-08-01</td>\n      <td>01:00:00</td>\n    </tr>\n    <tr>\n      <th>54879</th>\n      <td>Laurel</td>\n      <td>MD</td>\n      <td>Other</td>\n      <td>2017-08-01</td>\n      <td>00:00:00</td>\n    </tr>\n  </tbody>\n</table>\n<p>54880 rows × 5 columns</p>\n</div>"
     },
     "metadata": {},
     "execution_count": 9
    }
   ],
   "source": [
    "#excluindo a coluna date_time\n",
    "df_OVNI_limpo_drop_date_time = df_OVNI_limpo.drop(labels=['date_time'], axis=1)\n",
    "df_OVNI_limpo_drop_date_time"
   ]
  },
  {
   "source": [
    "3. Fazer o mesmo procedimento para dias da semana. Será que existe um dia da semana com mais ocorrências de relatórios para OVNIs? Para descobrir isso, você deve criar uma nova coluna chamada weekdays."
   ],
   "cell_type": "markdown",
   "metadata": {}
  },
  {
   "cell_type": "code",
   "execution_count": 10,
   "metadata": {
    "tags": []
   },
   "outputs": [
    {
     "output_type": "stream",
     "name": "stdout",
     "text": "&lt;class &#39;pandas.core.frame.DataFrame&#39;&gt;\nRangeIndex: 54880 entries, 0 to 54879\nData columns (total 5 columns):\n #   Column      Non-Null Count  Dtype         \n---  ------      --------------  -----         \n 0   city        54880 non-null  object        \n 1   state       54880 non-null  object        \n 2   shape       54880 non-null  object        \n 3   Sight_Date  54880 non-null  datetime64[ns]\n 4   Sight_Time  54880 non-null  object        \ndtypes: datetime64[ns](1), object(4)\nmemory usage: 2.1+ MB\n"
    }
   ],
   "source": [
    "#transformando a coluna Sight_Date de object para datatime\n",
    "df_OVNI_limpo_drop_date_time[\"Sight_Date\"] = pd.to_datetime(df_OVNI_limpo_drop_date_time[\"Sight_Date\"])\n",
    "df_OVNI_limpo_drop_date_time.info()"
   ]
  },
  {
   "cell_type": "code",
   "execution_count": 11,
   "metadata": {},
   "outputs": [
    {
     "output_type": "execute_result",
     "data": {
      "text/plain": "                   city state      shape Sight_Date Sight_Time Sight_Weekday\n0       Solomons Island    MD       Disk 1997-09-22   20:00:00        Monday\n1          Garden Grove    CA  Rectangle 1997-09-19   00:00:00        Friday\n2               Houston    TX       Disk 1997-09-15   00:00:00        Monday\n3              Santa Fe    NM      Light 1997-09-15   20:00:00        Monday\n4                  Kent    WA     Sphere 1997-09-15   20:00:00        Monday\n...                 ...   ...        ...        ...        ...           ...\n54875  Columbus (North)    GA   Fireball 2017-08-01   06:15:00       Tuesday\n54876          Corcoran    MN      Light 2017-08-01   02:45:00       Tuesday\n54877     Moreno Valley    CA      Other 2017-08-01   02:00:00       Tuesday\n54878         Bradenton    FL      Other 2017-08-01   01:00:00       Tuesday\n54879            Laurel    MD      Other 2017-08-01   00:00:00       Tuesday\n\n[54880 rows x 6 columns]",
      "text/html": "<div>\n<style scoped>\n    .dataframe tbody tr th:only-of-type {\n        vertical-align: middle;\n    }\n\n    .dataframe tbody tr th {\n        vertical-align: top;\n    }\n\n    .dataframe thead th {\n        text-align: right;\n    }\n</style>\n<table border=\"1\" class=\"dataframe\">\n  <thead>\n    <tr style=\"text-align: right;\">\n      <th></th>\n      <th>city</th>\n      <th>state</th>\n      <th>shape</th>\n      <th>Sight_Date</th>\n      <th>Sight_Time</th>\n      <th>Sight_Weekday</th>\n    </tr>\n  </thead>\n  <tbody>\n    <tr>\n      <th>0</th>\n      <td>Solomons Island</td>\n      <td>MD</td>\n      <td>Disk</td>\n      <td>1997-09-22</td>\n      <td>20:00:00</td>\n      <td>Monday</td>\n    </tr>\n    <tr>\n      <th>1</th>\n      <td>Garden Grove</td>\n      <td>CA</td>\n      <td>Rectangle</td>\n      <td>1997-09-19</td>\n      <td>00:00:00</td>\n      <td>Friday</td>\n    </tr>\n    <tr>\n      <th>2</th>\n      <td>Houston</td>\n      <td>TX</td>\n      <td>Disk</td>\n      <td>1997-09-15</td>\n      <td>00:00:00</td>\n      <td>Monday</td>\n    </tr>\n    <tr>\n      <th>3</th>\n      <td>Santa Fe</td>\n      <td>NM</td>\n      <td>Light</td>\n      <td>1997-09-15</td>\n      <td>20:00:00</td>\n      <td>Monday</td>\n    </tr>\n    <tr>\n      <th>4</th>\n      <td>Kent</td>\n      <td>WA</td>\n      <td>Sphere</td>\n      <td>1997-09-15</td>\n      <td>20:00:00</td>\n      <td>Monday</td>\n    </tr>\n    <tr>\n      <th>...</th>\n      <td>...</td>\n      <td>...</td>\n      <td>...</td>\n      <td>...</td>\n      <td>...</td>\n      <td>...</td>\n    </tr>\n    <tr>\n      <th>54875</th>\n      <td>Columbus (North)</td>\n      <td>GA</td>\n      <td>Fireball</td>\n      <td>2017-08-01</td>\n      <td>06:15:00</td>\n      <td>Tuesday</td>\n    </tr>\n    <tr>\n      <th>54876</th>\n      <td>Corcoran</td>\n      <td>MN</td>\n      <td>Light</td>\n      <td>2017-08-01</td>\n      <td>02:45:00</td>\n      <td>Tuesday</td>\n    </tr>\n    <tr>\n      <th>54877</th>\n      <td>Moreno Valley</td>\n      <td>CA</td>\n      <td>Other</td>\n      <td>2017-08-01</td>\n      <td>02:00:00</td>\n      <td>Tuesday</td>\n    </tr>\n    <tr>\n      <th>54878</th>\n      <td>Bradenton</td>\n      <td>FL</td>\n      <td>Other</td>\n      <td>2017-08-01</td>\n      <td>01:00:00</td>\n      <td>Tuesday</td>\n    </tr>\n    <tr>\n      <th>54879</th>\n      <td>Laurel</td>\n      <td>MD</td>\n      <td>Other</td>\n      <td>2017-08-01</td>\n      <td>00:00:00</td>\n      <td>Tuesday</td>\n    </tr>\n  </tbody>\n</table>\n<p>54880 rows × 6 columns</p>\n</div>"
     },
     "metadata": {},
     "execution_count": 11
    }
   ],
   "source": [
    "#criando a coluna dia da semana\n",
    "df_OVNI_limpo_drop_date_time['Sight_Weekday'] = df_OVNI_limpo_drop_date_time['Sight_Date'].dt.day_name()\n",
    "df_OVNI_limpo_drop_date_time"
   ]
  },
  {
   "source": [
    "Sabemos que sábado é o dia com mais ocorrências dentro do dataframe atual"
   ],
   "cell_type": "markdown",
   "metadata": {}
  },
  {
   "cell_type": "code",
   "execution_count": 13,
   "metadata": {},
   "outputs": [
    {
     "output_type": "execute_result",
     "data": {
      "text/plain": "    WeekDay  Total\n0  Saturday  10716",
      "text/html": "<div>\n<style scoped>\n    .dataframe tbody tr th:only-of-type {\n        vertical-align: middle;\n    }\n\n    .dataframe tbody tr th {\n        vertical-align: top;\n    }\n\n    .dataframe thead th {\n        text-align: right;\n    }\n</style>\n<table border=\"1\" class=\"dataframe\">\n  <thead>\n    <tr style=\"text-align: right;\">\n      <th></th>\n      <th>WeekDay</th>\n      <th>Total</th>\n    </tr>\n  </thead>\n  <tbody>\n    <tr>\n      <th>0</th>\n      <td>Saturday</td>\n      <td>10716</td>\n    </tr>\n  </tbody>\n</table>\n</div>"
     },
     "metadata": {},
     "execution_count": 13
    }
   ],
   "source": [
    "#Será que existe um dia da semana com mais ocorrências de relatórios para OVNIs?\n",
    "#dia da semana com mais ocorrência de OVNIs (SÁBADO)\n",
    "weekday_mais_popular = pd.value_counts(df_OVNI_limpo_drop_date_time['Sight_Weekday']).to_frame().reset_index()\n",
    "weekday_mais_popular.columns = ['WeekDay', 'Total']\n",
    "weekday_mais_popular.head(1)"
   ]
  },
  {
   "source": [
    "De acordo com o ranking abaixo percebe-se que a maior parte das ocorrências ocorrem nos finais de semana..."
   ],
   "cell_type": "markdown",
   "metadata": {}
  },
  {
   "cell_type": "code",
   "execution_count": 14,
   "metadata": {},
   "outputs": [
    {
     "output_type": "execute_result",
     "data": {
      "text/plain": "     WeekDay  Total\n0   Saturday  10716\n1     Friday   8145\n2     Sunday   7811\n3  Wednesday   7394\n4   Thursday   7295\n5    Tuesday   6875\n6     Monday   6644",
      "text/html": "<div>\n<style scoped>\n    .dataframe tbody tr th:only-of-type {\n        vertical-align: middle;\n    }\n\n    .dataframe tbody tr th {\n        vertical-align: top;\n    }\n\n    .dataframe thead th {\n        text-align: right;\n    }\n</style>\n<table border=\"1\" class=\"dataframe\">\n  <thead>\n    <tr style=\"text-align: right;\">\n      <th></th>\n      <th>WeekDay</th>\n      <th>Total</th>\n    </tr>\n  </thead>\n  <tbody>\n    <tr>\n      <th>0</th>\n      <td>Saturday</td>\n      <td>10716</td>\n    </tr>\n    <tr>\n      <th>1</th>\n      <td>Friday</td>\n      <td>8145</td>\n    </tr>\n    <tr>\n      <th>2</th>\n      <td>Sunday</td>\n      <td>7811</td>\n    </tr>\n    <tr>\n      <th>3</th>\n      <td>Wednesday</td>\n      <td>7394</td>\n    </tr>\n    <tr>\n      <th>4</th>\n      <td>Thursday</td>\n      <td>7295</td>\n    </tr>\n    <tr>\n      <th>5</th>\n      <td>Tuesday</td>\n      <td>6875</td>\n    </tr>\n    <tr>\n      <th>6</th>\n      <td>Monday</td>\n      <td>6644</td>\n    </tr>\n  </tbody>\n</table>\n</div>"
     },
     "metadata": {},
     "execution_count": 14
    }
   ],
   "source": [
    "#ranking dos dias das semanas com mais ocorrências\n",
    "weekday_mais_popular"
   ]
  },
  {
   "source": [],
   "cell_type": "markdown",
   "metadata": {}
  },
  {
   "source": [
    "4. Separar as variáveis mês (Month) e dia (Day). Desse modo, será possível refinar as pesquisas.\n",
    "Aspecto do dataframe após a modificação:"
   ],
   "cell_type": "markdown",
   "metadata": {}
  },
  {
   "cell_type": "code",
   "execution_count": 19,
   "metadata": {},
   "outputs": [
    {
     "output_type": "execute_result",
     "data": {
      "text/plain": "                   city state      shape Sight_Date Sight_Time Sight_Weekday  \\\n0       Solomons Island    MD       Disk 1997-09-22   20:00:00        Monday   \n1          Garden Grove    CA  Rectangle 1997-09-19   00:00:00        Friday   \n2               Houston    TX       Disk 1997-09-15   00:00:00        Monday   \n3              Santa Fe    NM      Light 1997-09-15   20:00:00        Monday   \n4                  Kent    WA     Sphere 1997-09-15   20:00:00        Monday   \n...                 ...   ...        ...        ...        ...           ...   \n54875  Columbus (North)    GA   Fireball 2017-08-01   06:15:00       Tuesday   \n54876          Corcoran    MN      Light 2017-08-01   02:45:00       Tuesday   \n54877     Moreno Valley    CA      Other 2017-08-01   02:00:00       Tuesday   \n54878         Bradenton    FL      Other 2017-08-01   01:00:00       Tuesday   \n54879            Laurel    MD      Other 2017-08-01   00:00:00       Tuesday   \n\n       Sight_Day  Sight_Month  \n0             22            9  \n1             19            9  \n2             15            9  \n3             15            9  \n4             15            9  \n...          ...          ...  \n54875          1            8  \n54876          1            8  \n54877          1            8  \n54878          1            8  \n54879          1            8  \n\n[54880 rows x 8 columns]",
      "text/html": "<div>\n<style scoped>\n    .dataframe tbody tr th:only-of-type {\n        vertical-align: middle;\n    }\n\n    .dataframe tbody tr th {\n        vertical-align: top;\n    }\n\n    .dataframe thead th {\n        text-align: right;\n    }\n</style>\n<table border=\"1\" class=\"dataframe\">\n  <thead>\n    <tr style=\"text-align: right;\">\n      <th></th>\n      <th>city</th>\n      <th>state</th>\n      <th>shape</th>\n      <th>Sight_Date</th>\n      <th>Sight_Time</th>\n      <th>Sight_Weekday</th>\n      <th>Sight_Day</th>\n      <th>Sight_Month</th>\n    </tr>\n  </thead>\n  <tbody>\n    <tr>\n      <th>0</th>\n      <td>Solomons Island</td>\n      <td>MD</td>\n      <td>Disk</td>\n      <td>1997-09-22</td>\n      <td>20:00:00</td>\n      <td>Monday</td>\n      <td>22</td>\n      <td>9</td>\n    </tr>\n    <tr>\n      <th>1</th>\n      <td>Garden Grove</td>\n      <td>CA</td>\n      <td>Rectangle</td>\n      <td>1997-09-19</td>\n      <td>00:00:00</td>\n      <td>Friday</td>\n      <td>19</td>\n      <td>9</td>\n    </tr>\n    <tr>\n      <th>2</th>\n      <td>Houston</td>\n      <td>TX</td>\n      <td>Disk</td>\n      <td>1997-09-15</td>\n      <td>00:00:00</td>\n      <td>Monday</td>\n      <td>15</td>\n      <td>9</td>\n    </tr>\n    <tr>\n      <th>3</th>\n      <td>Santa Fe</td>\n      <td>NM</td>\n      <td>Light</td>\n      <td>1997-09-15</td>\n      <td>20:00:00</td>\n      <td>Monday</td>\n      <td>15</td>\n      <td>9</td>\n    </tr>\n    <tr>\n      <th>4</th>\n      <td>Kent</td>\n      <td>WA</td>\n      <td>Sphere</td>\n      <td>1997-09-15</td>\n      <td>20:00:00</td>\n      <td>Monday</td>\n      <td>15</td>\n      <td>9</td>\n    </tr>\n    <tr>\n      <th>...</th>\n      <td>...</td>\n      <td>...</td>\n      <td>...</td>\n      <td>...</td>\n      <td>...</td>\n      <td>...</td>\n      <td>...</td>\n      <td>...</td>\n    </tr>\n    <tr>\n      <th>54875</th>\n      <td>Columbus (North)</td>\n      <td>GA</td>\n      <td>Fireball</td>\n      <td>2017-08-01</td>\n      <td>06:15:00</td>\n      <td>Tuesday</td>\n      <td>1</td>\n      <td>8</td>\n    </tr>\n    <tr>\n      <th>54876</th>\n      <td>Corcoran</td>\n      <td>MN</td>\n      <td>Light</td>\n      <td>2017-08-01</td>\n      <td>02:45:00</td>\n      <td>Tuesday</td>\n      <td>1</td>\n      <td>8</td>\n    </tr>\n    <tr>\n      <th>54877</th>\n      <td>Moreno Valley</td>\n      <td>CA</td>\n      <td>Other</td>\n      <td>2017-08-01</td>\n      <td>02:00:00</td>\n      <td>Tuesday</td>\n      <td>1</td>\n      <td>8</td>\n    </tr>\n    <tr>\n      <th>54878</th>\n      <td>Bradenton</td>\n      <td>FL</td>\n      <td>Other</td>\n      <td>2017-08-01</td>\n      <td>01:00:00</td>\n      <td>Tuesday</td>\n      <td>1</td>\n      <td>8</td>\n    </tr>\n    <tr>\n      <th>54879</th>\n      <td>Laurel</td>\n      <td>MD</td>\n      <td>Other</td>\n      <td>2017-08-01</td>\n      <td>00:00:00</td>\n      <td>Tuesday</td>\n      <td>1</td>\n      <td>8</td>\n    </tr>\n  </tbody>\n</table>\n<p>54880 rows × 8 columns</p>\n</div>"
     },
     "metadata": {},
     "execution_count": 19
    }
   ],
   "source": [
    "#criando a coluna com o dia\n",
    "df_OVNI_limpo_drop_date_time['Sight_Day'] = df_OVNI_limpo_drop_date_time[\"Sight_Date\"].dt.day\n",
    "df_OVNI_limpo_drop_date_time"
   ]
  },
  {
   "cell_type": "code",
   "execution_count": 18,
   "metadata": {},
   "outputs": [
    {
     "output_type": "execute_result",
     "data": {
      "text/plain": "                   city state      shape Sight_Date Sight_Time Sight_Weekday  \\\n0       Solomons Island    MD       Disk 1997-09-22   20:00:00        Monday   \n1          Garden Grove    CA  Rectangle 1997-09-19   00:00:00        Friday   \n2               Houston    TX       Disk 1997-09-15   00:00:00        Monday   \n3              Santa Fe    NM      Light 1997-09-15   20:00:00        Monday   \n4                  Kent    WA     Sphere 1997-09-15   20:00:00        Monday   \n...                 ...   ...        ...        ...        ...           ...   \n54875  Columbus (North)    GA   Fireball 2017-08-01   06:15:00       Tuesday   \n54876          Corcoran    MN      Light 2017-08-01   02:45:00       Tuesday   \n54877     Moreno Valley    CA      Other 2017-08-01   02:00:00       Tuesday   \n54878         Bradenton    FL      Other 2017-08-01   01:00:00       Tuesday   \n54879            Laurel    MD      Other 2017-08-01   00:00:00       Tuesday   \n\n       Sight_Day  Sight_Month  \n0             22            9  \n1             19            9  \n2             15            9  \n3             15            9  \n4             15            9  \n...          ...          ...  \n54875          1            8  \n54876          1            8  \n54877          1            8  \n54878          1            8  \n54879          1            8  \n\n[54880 rows x 8 columns]",
      "text/html": "<div>\n<style scoped>\n    .dataframe tbody tr th:only-of-type {\n        vertical-align: middle;\n    }\n\n    .dataframe tbody tr th {\n        vertical-align: top;\n    }\n\n    .dataframe thead th {\n        text-align: right;\n    }\n</style>\n<table border=\"1\" class=\"dataframe\">\n  <thead>\n    <tr style=\"text-align: right;\">\n      <th></th>\n      <th>city</th>\n      <th>state</th>\n      <th>shape</th>\n      <th>Sight_Date</th>\n      <th>Sight_Time</th>\n      <th>Sight_Weekday</th>\n      <th>Sight_Day</th>\n      <th>Sight_Month</th>\n    </tr>\n  </thead>\n  <tbody>\n    <tr>\n      <th>0</th>\n      <td>Solomons Island</td>\n      <td>MD</td>\n      <td>Disk</td>\n      <td>1997-09-22</td>\n      <td>20:00:00</td>\n      <td>Monday</td>\n      <td>22</td>\n      <td>9</td>\n    </tr>\n    <tr>\n      <th>1</th>\n      <td>Garden Grove</td>\n      <td>CA</td>\n      <td>Rectangle</td>\n      <td>1997-09-19</td>\n      <td>00:00:00</td>\n      <td>Friday</td>\n      <td>19</td>\n      <td>9</td>\n    </tr>\n    <tr>\n      <th>2</th>\n      <td>Houston</td>\n      <td>TX</td>\n      <td>Disk</td>\n      <td>1997-09-15</td>\n      <td>00:00:00</td>\n      <td>Monday</td>\n      <td>15</td>\n      <td>9</td>\n    </tr>\n    <tr>\n      <th>3</th>\n      <td>Santa Fe</td>\n      <td>NM</td>\n      <td>Light</td>\n      <td>1997-09-15</td>\n      <td>20:00:00</td>\n      <td>Monday</td>\n      <td>15</td>\n      <td>9</td>\n    </tr>\n    <tr>\n      <th>4</th>\n      <td>Kent</td>\n      <td>WA</td>\n      <td>Sphere</td>\n      <td>1997-09-15</td>\n      <td>20:00:00</td>\n      <td>Monday</td>\n      <td>15</td>\n      <td>9</td>\n    </tr>\n    <tr>\n      <th>...</th>\n      <td>...</td>\n      <td>...</td>\n      <td>...</td>\n      <td>...</td>\n      <td>...</td>\n      <td>...</td>\n      <td>...</td>\n      <td>...</td>\n    </tr>\n    <tr>\n      <th>54875</th>\n      <td>Columbus (North)</td>\n      <td>GA</td>\n      <td>Fireball</td>\n      <td>2017-08-01</td>\n      <td>06:15:00</td>\n      <td>Tuesday</td>\n      <td>1</td>\n      <td>8</td>\n    </tr>\n    <tr>\n      <th>54876</th>\n      <td>Corcoran</td>\n      <td>MN</td>\n      <td>Light</td>\n      <td>2017-08-01</td>\n      <td>02:45:00</td>\n      <td>Tuesday</td>\n      <td>1</td>\n      <td>8</td>\n    </tr>\n    <tr>\n      <th>54877</th>\n      <td>Moreno Valley</td>\n      <td>CA</td>\n      <td>Other</td>\n      <td>2017-08-01</td>\n      <td>02:00:00</td>\n      <td>Tuesday</td>\n      <td>1</td>\n      <td>8</td>\n    </tr>\n    <tr>\n      <th>54878</th>\n      <td>Bradenton</td>\n      <td>FL</td>\n      <td>Other</td>\n      <td>2017-08-01</td>\n      <td>01:00:00</td>\n      <td>Tuesday</td>\n      <td>1</td>\n      <td>8</td>\n    </tr>\n    <tr>\n      <th>54879</th>\n      <td>Laurel</td>\n      <td>MD</td>\n      <td>Other</td>\n      <td>2017-08-01</td>\n      <td>00:00:00</td>\n      <td>Tuesday</td>\n      <td>1</td>\n      <td>8</td>\n    </tr>\n  </tbody>\n</table>\n<p>54880 rows × 8 columns</p>\n</div>"
     },
     "metadata": {},
     "execution_count": 18
    }
   ],
   "source": [
    "#criando a coluna com o mês\n",
    "df_OVNI_limpo_drop_date_time['Sight_Month'] = df_OVNI_limpo_drop_date_time[\"Sight_Date\"].dt.month\n",
    "df_OVNI_limpo_drop_date_time"
   ]
  },
  {
   "source": [
    "5. Por fim, salvar o dataframe resultante em um arquivo .csv com o nome: 'df_OVNI_preparado'."
   ],
   "cell_type": "markdown",
   "metadata": {}
  },
  {
   "cell_type": "code",
   "execution_count": 21,
   "metadata": {},
   "outputs": [],
   "source": [
    "#exportando o dataframe resultante\n",
    "df_OVNI_limpo_drop_date_time.to_csv('df_OVNI_preparado.csv', index=False)"
   ]
  },
  {
   "cell_type": "code",
   "execution_count": 22,
   "metadata": {},
   "outputs": [
    {
     "output_type": "execute_result",
     "data": {
      "text/plain": "                   city state      shape  Sight_Date Sight_Time Sight_Weekday  \\\n0       Solomons Island    MD       Disk  1997-09-22   20:00:00        Monday   \n1          Garden Grove    CA  Rectangle  1997-09-19   00:00:00        Friday   \n2               Houston    TX       Disk  1997-09-15   00:00:00        Monday   \n3              Santa Fe    NM      Light  1997-09-15   20:00:00        Monday   \n4                  Kent    WA     Sphere  1997-09-15   20:00:00        Monday   \n...                 ...   ...        ...         ...        ...           ...   \n54875  Columbus (North)    GA   Fireball  2017-08-01   06:15:00       Tuesday   \n54876          Corcoran    MN      Light  2017-08-01   02:45:00       Tuesday   \n54877     Moreno Valley    CA      Other  2017-08-01   02:00:00       Tuesday   \n54878         Bradenton    FL      Other  2017-08-01   01:00:00       Tuesday   \n54879            Laurel    MD      Other  2017-08-01   00:00:00       Tuesday   \n\n       Sight_Day  Sight_Month  \n0             22            9  \n1             19            9  \n2             15            9  \n3             15            9  \n4             15            9  \n...          ...          ...  \n54875          1            8  \n54876          1            8  \n54877          1            8  \n54878          1            8  \n54879          1            8  \n\n[54880 rows x 8 columns]",
      "text/html": "<div>\n<style scoped>\n    .dataframe tbody tr th:only-of-type {\n        vertical-align: middle;\n    }\n\n    .dataframe tbody tr th {\n        vertical-align: top;\n    }\n\n    .dataframe thead th {\n        text-align: right;\n    }\n</style>\n<table border=\"1\" class=\"dataframe\">\n  <thead>\n    <tr style=\"text-align: right;\">\n      <th></th>\n      <th>city</th>\n      <th>state</th>\n      <th>shape</th>\n      <th>Sight_Date</th>\n      <th>Sight_Time</th>\n      <th>Sight_Weekday</th>\n      <th>Sight_Day</th>\n      <th>Sight_Month</th>\n    </tr>\n  </thead>\n  <tbody>\n    <tr>\n      <th>0</th>\n      <td>Solomons Island</td>\n      <td>MD</td>\n      <td>Disk</td>\n      <td>1997-09-22</td>\n      <td>20:00:00</td>\n      <td>Monday</td>\n      <td>22</td>\n      <td>9</td>\n    </tr>\n    <tr>\n      <th>1</th>\n      <td>Garden Grove</td>\n      <td>CA</td>\n      <td>Rectangle</td>\n      <td>1997-09-19</td>\n      <td>00:00:00</td>\n      <td>Friday</td>\n      <td>19</td>\n      <td>9</td>\n    </tr>\n    <tr>\n      <th>2</th>\n      <td>Houston</td>\n      <td>TX</td>\n      <td>Disk</td>\n      <td>1997-09-15</td>\n      <td>00:00:00</td>\n      <td>Monday</td>\n      <td>15</td>\n      <td>9</td>\n    </tr>\n    <tr>\n      <th>3</th>\n      <td>Santa Fe</td>\n      <td>NM</td>\n      <td>Light</td>\n      <td>1997-09-15</td>\n      <td>20:00:00</td>\n      <td>Monday</td>\n      <td>15</td>\n      <td>9</td>\n    </tr>\n    <tr>\n      <th>4</th>\n      <td>Kent</td>\n      <td>WA</td>\n      <td>Sphere</td>\n      <td>1997-09-15</td>\n      <td>20:00:00</td>\n      <td>Monday</td>\n      <td>15</td>\n      <td>9</td>\n    </tr>\n    <tr>\n      <th>...</th>\n      <td>...</td>\n      <td>...</td>\n      <td>...</td>\n      <td>...</td>\n      <td>...</td>\n      <td>...</td>\n      <td>...</td>\n      <td>...</td>\n    </tr>\n    <tr>\n      <th>54875</th>\n      <td>Columbus (North)</td>\n      <td>GA</td>\n      <td>Fireball</td>\n      <td>2017-08-01</td>\n      <td>06:15:00</td>\n      <td>Tuesday</td>\n      <td>1</td>\n      <td>8</td>\n    </tr>\n    <tr>\n      <th>54876</th>\n      <td>Corcoran</td>\n      <td>MN</td>\n      <td>Light</td>\n      <td>2017-08-01</td>\n      <td>02:45:00</td>\n      <td>Tuesday</td>\n      <td>1</td>\n      <td>8</td>\n    </tr>\n    <tr>\n      <th>54877</th>\n      <td>Moreno Valley</td>\n      <td>CA</td>\n      <td>Other</td>\n      <td>2017-08-01</td>\n      <td>02:00:00</td>\n      <td>Tuesday</td>\n      <td>1</td>\n      <td>8</td>\n    </tr>\n    <tr>\n      <th>54878</th>\n      <td>Bradenton</td>\n      <td>FL</td>\n      <td>Other</td>\n      <td>2017-08-01</td>\n      <td>01:00:00</td>\n      <td>Tuesday</td>\n      <td>1</td>\n      <td>8</td>\n    </tr>\n    <tr>\n      <th>54879</th>\n      <td>Laurel</td>\n      <td>MD</td>\n      <td>Other</td>\n      <td>2017-08-01</td>\n      <td>00:00:00</td>\n      <td>Tuesday</td>\n      <td>1</td>\n      <td>8</td>\n    </tr>\n  </tbody>\n</table>\n<p>54880 rows × 8 columns</p>\n</div>"
     },
     "metadata": {},
     "execution_count": 22
    }
   ],
   "source": [
    "#carregando e visualizando o dataframe final\n",
    "df_OVNI_preparado = pd.read_csv('../5.8-Acrescimo-de-variaveis/df_OVNI_preparado.csv')\n",
    "df_OVNI_preparado"
   ]
  },
  {
   "cell_type": "code",
   "execution_count": null,
   "metadata": {},
   "outputs": [],
   "source": []
  }
 ]
}