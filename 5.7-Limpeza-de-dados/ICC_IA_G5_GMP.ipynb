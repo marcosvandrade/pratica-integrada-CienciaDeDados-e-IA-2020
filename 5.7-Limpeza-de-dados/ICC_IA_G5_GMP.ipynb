{
 "metadata": {
  "language_info": {
   "codemirror_mode": {
    "name": "ipython",
    "version": 3
   },
   "file_extension": ".py",
   "mimetype": "text/x-python",
   "name": "python",
   "nbconvert_exporter": "python",
   "pygments_lexer": "ipython3",
   "version": "3.8.5-final"
  },
  "orig_nbformat": 2,
  "kernelspec": {
   "name": "Python 3.8.5 64-bit",
   "display_name": "Python 3.8.5 64-bit",
   "metadata": {
    "interpreter": {
     "hash": "5b93c7d2641c620ea3a1a94007b995529962ea5a20273563198d6021783bfed8"
    }
   }
  }
 },
 "nbformat": 4,
 "nbformat_minor": 2,
 "cells": [
  {
   "source": [
    "Importando as bibliotecas"
   ],
   "cell_type": "markdown",
   "metadata": {}
  },
  {
   "cell_type": "code",
   "execution_count": 2,
   "metadata": {},
   "outputs": [],
   "source": [
    "import pandas as pd\n",
    "import numpy as np"
   ]
  },
  {
   "source": [
    "1. Carregar o seu arquivo OVNIS.csv em um dataframe"
   ],
   "cell_type": "markdown",
   "metadata": {}
  },
  {
   "cell_type": "code",
   "execution_count": 2,
   "metadata": {},
   "outputs": [
    {
     "output_type": "execute_result",
     "data": {
      "text/plain": "           date_time             city state      shape     duration  \\\n0      9/22/97 20:00  Solomons Island    MD       Disk   10 minutes   \n1            9/19/97     Garden Grove    CA  Rectangle      4 mins.   \n2      9/18/97 20:15      Panama City    FL    Unknown   30 seconds   \n3      9/15/97 00:00          Houston    TX       Disk    5 minutes   \n4      9/15/97 20:00         Santa Fe    NM      Light  2-3 minutes   \n...              ...              ...   ...        ...          ...   \n64892   8/1/17 02:45         Corcoran    MN      Light  Still going   \n64893   8/1/17 02:00    Moreno Valley    CA      Other   10 seconds   \n64894   8/1/17 01:00        Bradenton    FL      Other  &lt;20 seconds   \n64895   8/1/17 00:00       Springdale    AR        NaN       1 hour   \n64896         8/1/17           Laurel    MD      Other          NaN   \n\n                                                 summary   posted  \n0                  Close up at twilight, Stationary UFO.   8/5/09  \n1      Around 6:30 PM I was walking through a Vons Pa...  12/1/19  \n2      Looked like stars in the sky so far up/moveing...  3/13/12  \n3      Beautiful silver-colored flying saucer about t...  7/19/10  \n4      Saw white dot of light moving in zig-zag motio...  11/9/17  \n...                                                  ...      ...  \n64892  Small light south west of Minneapolis maneuver...   8/4/17  \n64893  I was looking out the front windshield and loo...   8/4/17  \n64894  I was walking my dog about 1am on August 1, 20...   5/9/19  \n64895  Glowing flying people . seven of them flying l...  2/13/20  \n64896  It was an alien project level 1 federal ran on...  6/25/20  \n\n[64897 rows x 7 columns]",
      "text/html": "<div>\n<style scoped>\n    .dataframe tbody tr th:only-of-type {\n        vertical-align: middle;\n    }\n\n    .dataframe tbody tr th {\n        vertical-align: top;\n    }\n\n    .dataframe thead th {\n        text-align: right;\n    }\n</style>\n<table border=\"1\" class=\"dataframe\">\n  <thead>\n    <tr style=\"text-align: right;\">\n      <th></th>\n      <th>date_time</th>\n      <th>city</th>\n      <th>state</th>\n      <th>shape</th>\n      <th>duration</th>\n      <th>summary</th>\n      <th>posted</th>\n    </tr>\n  </thead>\n  <tbody>\n    <tr>\n      <th>0</th>\n      <td>9/22/97 20:00</td>\n      <td>Solomons Island</td>\n      <td>MD</td>\n      <td>Disk</td>\n      <td>10 minutes</td>\n      <td>Close up at twilight, Stationary UFO.</td>\n      <td>8/5/09</td>\n    </tr>\n    <tr>\n      <th>1</th>\n      <td>9/19/97</td>\n      <td>Garden Grove</td>\n      <td>CA</td>\n      <td>Rectangle</td>\n      <td>4 mins.</td>\n      <td>Around 6:30 PM I was walking through a Vons Pa...</td>\n      <td>12/1/19</td>\n    </tr>\n    <tr>\n      <th>2</th>\n      <td>9/18/97 20:15</td>\n      <td>Panama City</td>\n      <td>FL</td>\n      <td>Unknown</td>\n      <td>30 seconds</td>\n      <td>Looked like stars in the sky so far up/moveing...</td>\n      <td>3/13/12</td>\n    </tr>\n    <tr>\n      <th>3</th>\n      <td>9/15/97 00:00</td>\n      <td>Houston</td>\n      <td>TX</td>\n      <td>Disk</td>\n      <td>5 minutes</td>\n      <td>Beautiful silver-colored flying saucer about t...</td>\n      <td>7/19/10</td>\n    </tr>\n    <tr>\n      <th>4</th>\n      <td>9/15/97 20:00</td>\n      <td>Santa Fe</td>\n      <td>NM</td>\n      <td>Light</td>\n      <td>2-3 minutes</td>\n      <td>Saw white dot of light moving in zig-zag motio...</td>\n      <td>11/9/17</td>\n    </tr>\n    <tr>\n      <th>...</th>\n      <td>...</td>\n      <td>...</td>\n      <td>...</td>\n      <td>...</td>\n      <td>...</td>\n      <td>...</td>\n      <td>...</td>\n    </tr>\n    <tr>\n      <th>64892</th>\n      <td>8/1/17 02:45</td>\n      <td>Corcoran</td>\n      <td>MN</td>\n      <td>Light</td>\n      <td>Still going</td>\n      <td>Small light south west of Minneapolis maneuver...</td>\n      <td>8/4/17</td>\n    </tr>\n    <tr>\n      <th>64893</th>\n      <td>8/1/17 02:00</td>\n      <td>Moreno Valley</td>\n      <td>CA</td>\n      <td>Other</td>\n      <td>10 seconds</td>\n      <td>I was looking out the front windshield and loo...</td>\n      <td>8/4/17</td>\n    </tr>\n    <tr>\n      <th>64894</th>\n      <td>8/1/17 01:00</td>\n      <td>Bradenton</td>\n      <td>FL</td>\n      <td>Other</td>\n      <td>&lt;20 seconds</td>\n      <td>I was walking my dog about 1am on August 1, 20...</td>\n      <td>5/9/19</td>\n    </tr>\n    <tr>\n      <th>64895</th>\n      <td>8/1/17 00:00</td>\n      <td>Springdale</td>\n      <td>AR</td>\n      <td>NaN</td>\n      <td>1 hour</td>\n      <td>Glowing flying people . seven of them flying l...</td>\n      <td>2/13/20</td>\n    </tr>\n    <tr>\n      <th>64896</th>\n      <td>8/1/17</td>\n      <td>Laurel</td>\n      <td>MD</td>\n      <td>Other</td>\n      <td>NaN</td>\n      <td>It was an alien project level 1 federal ran on...</td>\n      <td>6/25/20</td>\n    </tr>\n  </tbody>\n</table>\n<p>64897 rows × 7 columns</p>\n</div>"
     },
     "metadata": {},
     "execution_count": 2
    }
   ],
   "source": [
    "OVNIS_EUA = pd.read_csv('../5.4-Exploracao-dos-dados-com-SQL/OVNIS_EUA.csv')\n",
    "OVNIS_EUA"
   ]
  },
  {
   "source": [
    "2. Remover registros que tenham valores vazios (None, Unknown, ...) para City, State e Shape"
   ],
   "cell_type": "markdown",
   "metadata": {}
  },
  {
   "source": [
    "REMOVENDO LINHAS QUE POSSUEM VALORES NULOS PARA CITY, STATE E SHAPE"
   ],
   "cell_type": "markdown",
   "metadata": {}
  },
  {
   "cell_type": "code",
   "execution_count": 3,
   "metadata": {},
   "outputs": [
    {
     "output_type": "execute_result",
     "data": {
      "text/plain": "date_time       0\ncity           73\nstate           0\nshape        1121\nduration     1651\nsummary         8\nposted          1\ndtype: int64"
     },
     "metadata": {},
     "execution_count": 3
    }
   ],
   "source": [
    "# identificando as colunas que possuem valores nulos\n",
    "OVNIS_EUA.isnull().sum()"
   ]
  },
  {
   "cell_type": "code",
   "execution_count": 4,
   "metadata": {},
   "outputs": [
    {
     "output_type": "execute_result",
     "data": {
      "text/plain": "           date_time              city state      shape     duration  \\\n0      9/22/97 20:00   Solomons Island    MD       Disk   10 minutes   \n1            9/19/97      Garden Grove    CA  Rectangle      4 mins.   \n2      9/18/97 20:15       Panama City    FL    Unknown   30 seconds   \n3      9/15/97 00:00           Houston    TX       Disk    5 minutes   \n4      9/15/97 20:00          Santa Fe    NM      Light  2-3 minutes   \n...              ...               ...   ...        ...          ...   \n64891   8/1/17 06:15  Columbus (North)    GA   Fireball    3 seconds   \n64892   8/1/17 02:45          Corcoran    MN      Light  Still going   \n64893   8/1/17 02:00     Moreno Valley    CA      Other   10 seconds   \n64894   8/1/17 01:00         Bradenton    FL      Other  &lt;20 seconds   \n64896         8/1/17            Laurel    MD      Other          NaN   \n\n                                                 summary   posted  \n0                  Close up at twilight, Stationary UFO.   8/5/09  \n1      Around 6:30 PM I was walking through a Vons Pa...  12/1/19  \n2      Looked like stars in the sky so far up/moveing...  3/13/12  \n3      Beautiful silver-colored flying saucer about t...  7/19/10  \n4      Saw white dot of light moving in zig-zag motio...  11/9/17  \n...                                                  ...      ...  \n64891  Green streak growing in size moving from west ...   8/4/17  \n64892  Small light south west of Minneapolis maneuver...   8/4/17  \n64893  I was looking out the front windshield and loo...   8/4/17  \n64894  I was walking my dog about 1am on August 1, 20...   5/9/19  \n64896  It was an alien project level 1 federal ran on...  6/25/20  \n\n[63709 rows x 7 columns]",
      "text/html": "<div>\n<style scoped>\n    .dataframe tbody tr th:only-of-type {\n        vertical-align: middle;\n    }\n\n    .dataframe tbody tr th {\n        vertical-align: top;\n    }\n\n    .dataframe thead th {\n        text-align: right;\n    }\n</style>\n<table border=\"1\" class=\"dataframe\">\n  <thead>\n    <tr style=\"text-align: right;\">\n      <th></th>\n      <th>date_time</th>\n      <th>city</th>\n      <th>state</th>\n      <th>shape</th>\n      <th>duration</th>\n      <th>summary</th>\n      <th>posted</th>\n    </tr>\n  </thead>\n  <tbody>\n    <tr>\n      <th>0</th>\n      <td>9/22/97 20:00</td>\n      <td>Solomons Island</td>\n      <td>MD</td>\n      <td>Disk</td>\n      <td>10 minutes</td>\n      <td>Close up at twilight, Stationary UFO.</td>\n      <td>8/5/09</td>\n    </tr>\n    <tr>\n      <th>1</th>\n      <td>9/19/97</td>\n      <td>Garden Grove</td>\n      <td>CA</td>\n      <td>Rectangle</td>\n      <td>4 mins.</td>\n      <td>Around 6:30 PM I was walking through a Vons Pa...</td>\n      <td>12/1/19</td>\n    </tr>\n    <tr>\n      <th>2</th>\n      <td>9/18/97 20:15</td>\n      <td>Panama City</td>\n      <td>FL</td>\n      <td>Unknown</td>\n      <td>30 seconds</td>\n      <td>Looked like stars in the sky so far up/moveing...</td>\n      <td>3/13/12</td>\n    </tr>\n    <tr>\n      <th>3</th>\n      <td>9/15/97 00:00</td>\n      <td>Houston</td>\n      <td>TX</td>\n      <td>Disk</td>\n      <td>5 minutes</td>\n      <td>Beautiful silver-colored flying saucer about t...</td>\n      <td>7/19/10</td>\n    </tr>\n    <tr>\n      <th>4</th>\n      <td>9/15/97 20:00</td>\n      <td>Santa Fe</td>\n      <td>NM</td>\n      <td>Light</td>\n      <td>2-3 minutes</td>\n      <td>Saw white dot of light moving in zig-zag motio...</td>\n      <td>11/9/17</td>\n    </tr>\n    <tr>\n      <th>...</th>\n      <td>...</td>\n      <td>...</td>\n      <td>...</td>\n      <td>...</td>\n      <td>...</td>\n      <td>...</td>\n      <td>...</td>\n    </tr>\n    <tr>\n      <th>64891</th>\n      <td>8/1/17 06:15</td>\n      <td>Columbus (North)</td>\n      <td>GA</td>\n      <td>Fireball</td>\n      <td>3 seconds</td>\n      <td>Green streak growing in size moving from west ...</td>\n      <td>8/4/17</td>\n    </tr>\n    <tr>\n      <th>64892</th>\n      <td>8/1/17 02:45</td>\n      <td>Corcoran</td>\n      <td>MN</td>\n      <td>Light</td>\n      <td>Still going</td>\n      <td>Small light south west of Minneapolis maneuver...</td>\n      <td>8/4/17</td>\n    </tr>\n    <tr>\n      <th>64893</th>\n      <td>8/1/17 02:00</td>\n      <td>Moreno Valley</td>\n      <td>CA</td>\n      <td>Other</td>\n      <td>10 seconds</td>\n      <td>I was looking out the front windshield and loo...</td>\n      <td>8/4/17</td>\n    </tr>\n    <tr>\n      <th>64894</th>\n      <td>8/1/17 01:00</td>\n      <td>Bradenton</td>\n      <td>FL</td>\n      <td>Other</td>\n      <td>&lt;20 seconds</td>\n      <td>I was walking my dog about 1am on August 1, 20...</td>\n      <td>5/9/19</td>\n    </tr>\n    <tr>\n      <th>64896</th>\n      <td>8/1/17</td>\n      <td>Laurel</td>\n      <td>MD</td>\n      <td>Other</td>\n      <td>NaN</td>\n      <td>It was an alien project level 1 federal ran on...</td>\n      <td>6/25/20</td>\n    </tr>\n  </tbody>\n</table>\n<p>63709 rows × 7 columns</p>\n</div>"
     },
     "metadata": {},
     "execution_count": 4
    }
   ],
   "source": [
    "#excluindo as linhas com valores nulos para City e Shape\n",
    "# State não possui valores nulos\n",
    "OVNIS_EUA_WN = OVNIS_EUA.dropna(subset=['city','shape']) # WN = WHITHOUT NULLS\n",
    "OVNIS_EUA_WN\n"
   ]
  },
  {
   "cell_type": "code",
   "execution_count": 5,
   "metadata": {},
   "outputs": [
    {
     "output_type": "execute_result",
     "data": {
      "text/plain": "date_time       0\ncity            0\nstate           0\nshape           0\nduration     1405\nsummary         7\nposted          1\ndtype: int64"
     },
     "metadata": {},
     "execution_count": 5
    }
   ],
   "source": [
    "#testando se os valores nulos foram exluidos\n",
    "OVNIS_EUA_WN.isnull().sum() # retorno AttributeError: 'tuple' object has no attribute 'isnull'\n"
   ]
  },
  {
   "cell_type": "code",
   "execution_count": 6,
   "metadata": {},
   "outputs": [],
   "source": [
    "#exportando o dataframe com os valores nulos tratados\n",
    "OVNIS_EUA_WN.to_csv('OVNIS_EUA_WN.csv', index=False)"
   ]
  },
  {
   "cell_type": "code",
   "execution_count": 7,
   "metadata": {},
   "outputs": [
    {
     "output_type": "execute_result",
     "data": {
      "text/plain": "           date_time              city state      shape     duration  \\\n0      9/22/97 20:00   Solomons Island    MD       Disk   10 minutes   \n1            9/19/97      Garden Grove    CA  Rectangle      4 mins.   \n2      9/18/97 20:15       Panama City    FL    Unknown   30 seconds   \n3      9/15/97 00:00           Houston    TX       Disk    5 minutes   \n4      9/15/97 20:00          Santa Fe    NM      Light  2-3 minutes   \n...              ...               ...   ...        ...          ...   \n64891   8/1/17 06:15  Columbus (North)    GA   Fireball    3 seconds   \n64892   8/1/17 02:45          Corcoran    MN      Light  Still going   \n64893   8/1/17 02:00     Moreno Valley    CA      Other   10 seconds   \n64894   8/1/17 01:00         Bradenton    FL      Other  &lt;20 seconds   \n64896         8/1/17            Laurel    MD      Other          NaN   \n\n                                                 summary   posted  \n0                  Close up at twilight, Stationary UFO.   8/5/09  \n1      Around 6:30 PM I was walking through a Vons Pa...  12/1/19  \n2      Looked like stars in the sky so far up/moveing...  3/13/12  \n3      Beautiful silver-colored flying saucer about t...  7/19/10  \n4      Saw white dot of light moving in zig-zag motio...  11/9/17  \n...                                                  ...      ...  \n64891  Green streak growing in size moving from west ...   8/4/17  \n64892  Small light south west of Minneapolis maneuver...   8/4/17  \n64893  I was looking out the front windshield and loo...   8/4/17  \n64894  I was walking my dog about 1am on August 1, 20...   5/9/19  \n64896  It was an alien project level 1 federal ran on...  6/25/20  \n\n[63709 rows x 7 columns]",
      "text/html": "<div>\n<style scoped>\n    .dataframe tbody tr th:only-of-type {\n        vertical-align: middle;\n    }\n\n    .dataframe tbody tr th {\n        vertical-align: top;\n    }\n\n    .dataframe thead th {\n        text-align: right;\n    }\n</style>\n<table border=\"1\" class=\"dataframe\">\n  <thead>\n    <tr style=\"text-align: right;\">\n      <th></th>\n      <th>date_time</th>\n      <th>city</th>\n      <th>state</th>\n      <th>shape</th>\n      <th>duration</th>\n      <th>summary</th>\n      <th>posted</th>\n    </tr>\n  </thead>\n  <tbody>\n    <tr>\n      <th>0</th>\n      <td>9/22/97 20:00</td>\n      <td>Solomons Island</td>\n      <td>MD</td>\n      <td>Disk</td>\n      <td>10 minutes</td>\n      <td>Close up at twilight, Stationary UFO.</td>\n      <td>8/5/09</td>\n    </tr>\n    <tr>\n      <th>1</th>\n      <td>9/19/97</td>\n      <td>Garden Grove</td>\n      <td>CA</td>\n      <td>Rectangle</td>\n      <td>4 mins.</td>\n      <td>Around 6:30 PM I was walking through a Vons Pa...</td>\n      <td>12/1/19</td>\n    </tr>\n    <tr>\n      <th>2</th>\n      <td>9/18/97 20:15</td>\n      <td>Panama City</td>\n      <td>FL</td>\n      <td>Unknown</td>\n      <td>30 seconds</td>\n      <td>Looked like stars in the sky so far up/moveing...</td>\n      <td>3/13/12</td>\n    </tr>\n    <tr>\n      <th>3</th>\n      <td>9/15/97 00:00</td>\n      <td>Houston</td>\n      <td>TX</td>\n      <td>Disk</td>\n      <td>5 minutes</td>\n      <td>Beautiful silver-colored flying saucer about t...</td>\n      <td>7/19/10</td>\n    </tr>\n    <tr>\n      <th>4</th>\n      <td>9/15/97 20:00</td>\n      <td>Santa Fe</td>\n      <td>NM</td>\n      <td>Light</td>\n      <td>2-3 minutes</td>\n      <td>Saw white dot of light moving in zig-zag motio...</td>\n      <td>11/9/17</td>\n    </tr>\n    <tr>\n      <th>...</th>\n      <td>...</td>\n      <td>...</td>\n      <td>...</td>\n      <td>...</td>\n      <td>...</td>\n      <td>...</td>\n      <td>...</td>\n    </tr>\n    <tr>\n      <th>64891</th>\n      <td>8/1/17 06:15</td>\n      <td>Columbus (North)</td>\n      <td>GA</td>\n      <td>Fireball</td>\n      <td>3 seconds</td>\n      <td>Green streak growing in size moving from west ...</td>\n      <td>8/4/17</td>\n    </tr>\n    <tr>\n      <th>64892</th>\n      <td>8/1/17 02:45</td>\n      <td>Corcoran</td>\n      <td>MN</td>\n      <td>Light</td>\n      <td>Still going</td>\n      <td>Small light south west of Minneapolis maneuver...</td>\n      <td>8/4/17</td>\n    </tr>\n    <tr>\n      <th>64893</th>\n      <td>8/1/17 02:00</td>\n      <td>Moreno Valley</td>\n      <td>CA</td>\n      <td>Other</td>\n      <td>10 seconds</td>\n      <td>I was looking out the front windshield and loo...</td>\n      <td>8/4/17</td>\n    </tr>\n    <tr>\n      <th>64894</th>\n      <td>8/1/17 01:00</td>\n      <td>Bradenton</td>\n      <td>FL</td>\n      <td>Other</td>\n      <td>&lt;20 seconds</td>\n      <td>I was walking my dog about 1am on August 1, 20...</td>\n      <td>5/9/19</td>\n    </tr>\n    <tr>\n      <th>64896</th>\n      <td>8/1/17</td>\n      <td>Laurel</td>\n      <td>MD</td>\n      <td>Other</td>\n      <td>NaN</td>\n      <td>It was an alien project level 1 federal ran on...</td>\n      <td>6/25/20</td>\n    </tr>\n  </tbody>\n</table>\n<p>63709 rows × 7 columns</p>\n</div>"
     },
     "metadata": {},
     "execution_count": 7
    }
   ],
   "source": [
    "#visualizando o dataframe sem os valores nulos\n",
    "OVNIS_EUA_WN"
   ]
  },
  {
   "source": [
    "REMOVENDO LINHAS COM VALORES UNKNOWN DE CITY, STATE E SHAPE"
   ],
   "cell_type": "markdown",
   "metadata": {}
  },
  {
   "cell_type": "code",
   "execution_count": 15,
   "metadata": {},
   "outputs": [],
   "source": [
    "#indentificando valores unknown em City, State e Shape\n",
    "unknown = ((OVNIS_EUA_WN['city'] == 'Unknown') | (OVNIS_EUA_WN['state'] == 'Unknown')\n",
    "            | (OVNIS_EUA_WN['shape'] == 'Unknown'))\n",
    "UNKNOWN = ((OVNIS_EUA_WN['city'] == 'UNKNOWN') | (OVNIS_EUA_WN['state'] == 'UNKNOWN')\n",
    "            | (OVNIS_EUA_WN['shape'] == 'UNKNOWN'))\n",
    "# OVNIS_EUA_WN[unknown]\n",
    "# OVNIS_EUA_WN[UNKNOWN]"
   ]
  },
  {
   "cell_type": "code",
   "execution_count": 16,
   "metadata": {},
   "outputs": [
    {
     "output_type": "execute_result",
     "data": {
      "text/plain": "           date_time              city state      shape     duration  \\\n0      9/22/97 20:00   Solomons Island    MD       Disk   10 minutes   \n1            9/19/97      Garden Grove    CA  Rectangle      4 mins.   \n3      9/15/97 00:00           Houston    TX       Disk    5 minutes   \n4      9/15/97 20:00          Santa Fe    NM      Light  2-3 minutes   \n5      9/15/97 20:00              Kent    WA     Sphere    5 minutes   \n...              ...               ...   ...        ...          ...   \n64891   8/1/17 06:15  Columbus (North)    GA   Fireball    3 seconds   \n64892   8/1/17 02:45          Corcoran    MN      Light  Still going   \n64893   8/1/17 02:00     Moreno Valley    CA      Other   10 seconds   \n64894   8/1/17 01:00         Bradenton    FL      Other  &lt;20 seconds   \n64896         8/1/17            Laurel    MD      Other          NaN   \n\n                                                 summary   posted  \n0                  Close up at twilight, Stationary UFO.   8/5/09  \n1      Around 6:30 PM I was walking through a Vons Pa...  12/1/19  \n3      Beautiful silver-colored flying saucer about t...  7/19/10  \n4      Saw white dot of light moving in zig-zag motio...  11/9/17  \n5      Was looking thru a telescope at the moon in 19...  3/17/17  \n...                                                  ...      ...  \n64891  Green streak growing in size moving from west ...   8/4/17  \n64892  Small light south west of Minneapolis maneuver...   8/4/17  \n64893  I was looking out the front windshield and loo...   8/4/17  \n64894  I was walking my dog about 1am on August 1, 20...   5/9/19  \n64896  It was an alien project level 1 federal ran on...  6/25/20  \n\n[59012 rows x 7 columns]",
      "text/html": "<div>\n<style scoped>\n    .dataframe tbody tr th:only-of-type {\n        vertical-align: middle;\n    }\n\n    .dataframe tbody tr th {\n        vertical-align: top;\n    }\n\n    .dataframe thead th {\n        text-align: right;\n    }\n</style>\n<table border=\"1\" class=\"dataframe\">\n  <thead>\n    <tr style=\"text-align: right;\">\n      <th></th>\n      <th>date_time</th>\n      <th>city</th>\n      <th>state</th>\n      <th>shape</th>\n      <th>duration</th>\n      <th>summary</th>\n      <th>posted</th>\n    </tr>\n  </thead>\n  <tbody>\n    <tr>\n      <th>0</th>\n      <td>9/22/97 20:00</td>\n      <td>Solomons Island</td>\n      <td>MD</td>\n      <td>Disk</td>\n      <td>10 minutes</td>\n      <td>Close up at twilight, Stationary UFO.</td>\n      <td>8/5/09</td>\n    </tr>\n    <tr>\n      <th>1</th>\n      <td>9/19/97</td>\n      <td>Garden Grove</td>\n      <td>CA</td>\n      <td>Rectangle</td>\n      <td>4 mins.</td>\n      <td>Around 6:30 PM I was walking through a Vons Pa...</td>\n      <td>12/1/19</td>\n    </tr>\n    <tr>\n      <th>3</th>\n      <td>9/15/97 00:00</td>\n      <td>Houston</td>\n      <td>TX</td>\n      <td>Disk</td>\n      <td>5 minutes</td>\n      <td>Beautiful silver-colored flying saucer about t...</td>\n      <td>7/19/10</td>\n    </tr>\n    <tr>\n      <th>4</th>\n      <td>9/15/97 20:00</td>\n      <td>Santa Fe</td>\n      <td>NM</td>\n      <td>Light</td>\n      <td>2-3 minutes</td>\n      <td>Saw white dot of light moving in zig-zag motio...</td>\n      <td>11/9/17</td>\n    </tr>\n    <tr>\n      <th>5</th>\n      <td>9/15/97 20:00</td>\n      <td>Kent</td>\n      <td>WA</td>\n      <td>Sphere</td>\n      <td>5 minutes</td>\n      <td>Was looking thru a telescope at the moon in 19...</td>\n      <td>3/17/17</td>\n    </tr>\n    <tr>\n      <th>...</th>\n      <td>...</td>\n      <td>...</td>\n      <td>...</td>\n      <td>...</td>\n      <td>...</td>\n      <td>...</td>\n      <td>...</td>\n    </tr>\n    <tr>\n      <th>64891</th>\n      <td>8/1/17 06:15</td>\n      <td>Columbus (North)</td>\n      <td>GA</td>\n      <td>Fireball</td>\n      <td>3 seconds</td>\n      <td>Green streak growing in size moving from west ...</td>\n      <td>8/4/17</td>\n    </tr>\n    <tr>\n      <th>64892</th>\n      <td>8/1/17 02:45</td>\n      <td>Corcoran</td>\n      <td>MN</td>\n      <td>Light</td>\n      <td>Still going</td>\n      <td>Small light south west of Minneapolis maneuver...</td>\n      <td>8/4/17</td>\n    </tr>\n    <tr>\n      <th>64893</th>\n      <td>8/1/17 02:00</td>\n      <td>Moreno Valley</td>\n      <td>CA</td>\n      <td>Other</td>\n      <td>10 seconds</td>\n      <td>I was looking out the front windshield and loo...</td>\n      <td>8/4/17</td>\n    </tr>\n    <tr>\n      <th>64894</th>\n      <td>8/1/17 01:00</td>\n      <td>Bradenton</td>\n      <td>FL</td>\n      <td>Other</td>\n      <td>&lt;20 seconds</td>\n      <td>I was walking my dog about 1am on August 1, 20...</td>\n      <td>5/9/19</td>\n    </tr>\n    <tr>\n      <th>64896</th>\n      <td>8/1/17</td>\n      <td>Laurel</td>\n      <td>MD</td>\n      <td>Other</td>\n      <td>NaN</td>\n      <td>It was an alien project level 1 federal ran on...</td>\n      <td>6/25/20</td>\n    </tr>\n  </tbody>\n</table>\n<p>59012 rows × 7 columns</p>\n</div>"
     },
     "metadata": {},
     "execution_count": 16
    }
   ],
   "source": [
    "#removendo unknown do dataframe\n",
    "# WU = WITHOUT UNKNOWNS\n",
    "OVNIS_EUA_WU = OVNIS_EUA_WN.drop(index=OVNIS_EUA_WN[unknown].index)\n",
    "# OVNIS_EUA_WU\n",
    "OVNIS_EUA_WU = OVNIS_EUA_WU.drop(index=OVNIS_EUA_WU[UNKNOWN].index)\n",
    "OVNIS_EUA_WU\n"
   ]
  },
  {
   "cell_type": "code",
   "execution_count": 17,
   "metadata": {},
   "outputs": [],
   "source": [
    "#exportando o dataframe com os valores unknown tratados\n",
    "OVNIS_EUA_WU.to_csv('OVNIS_EUA_WU.csv', index=False)"
   ]
  },
  {
   "cell_type": "code",
   "execution_count": 18,
   "metadata": {},
   "outputs": [
    {
     "output_type": "execute_result",
     "data": {
      "text/plain": "           date_time              city state      shape     duration  \\\n0      9/22/97 20:00   Solomons Island    MD       Disk   10 minutes   \n1            9/19/97      Garden Grove    CA  Rectangle      4 mins.   \n2      9/15/97 00:00           Houston    TX       Disk    5 minutes   \n3      9/15/97 20:00          Santa Fe    NM      Light  2-3 minutes   \n4      9/15/97 20:00              Kent    WA     Sphere    5 minutes   \n...              ...               ...   ...        ...          ...   \n59007   8/1/17 06:15  Columbus (North)    GA   Fireball    3 seconds   \n59008   8/1/17 02:45          Corcoran    MN      Light  Still going   \n59009   8/1/17 02:00     Moreno Valley    CA      Other   10 seconds   \n59010   8/1/17 01:00         Bradenton    FL      Other  &lt;20 seconds   \n59011         8/1/17            Laurel    MD      Other          NaN   \n\n                                                 summary   posted  \n0                  Close up at twilight, Stationary UFO.   8/5/09  \n1      Around 6:30 PM I was walking through a Vons Pa...  12/1/19  \n2      Beautiful silver-colored flying saucer about t...  7/19/10  \n3      Saw white dot of light moving in zig-zag motio...  11/9/17  \n4      Was looking thru a telescope at the moon in 19...  3/17/17  \n...                                                  ...      ...  \n59007  Green streak growing in size moving from west ...   8/4/17  \n59008  Small light south west of Minneapolis maneuver...   8/4/17  \n59009  I was looking out the front windshield and loo...   8/4/17  \n59010  I was walking my dog about 1am on August 1, 20...   5/9/19  \n59011  It was an alien project level 1 federal ran on...  6/25/20  \n\n[59012 rows x 7 columns]",
      "text/html": "<div>\n<style scoped>\n    .dataframe tbody tr th:only-of-type {\n        vertical-align: middle;\n    }\n\n    .dataframe tbody tr th {\n        vertical-align: top;\n    }\n\n    .dataframe thead th {\n        text-align: right;\n    }\n</style>\n<table border=\"1\" class=\"dataframe\">\n  <thead>\n    <tr style=\"text-align: right;\">\n      <th></th>\n      <th>date_time</th>\n      <th>city</th>\n      <th>state</th>\n      <th>shape</th>\n      <th>duration</th>\n      <th>summary</th>\n      <th>posted</th>\n    </tr>\n  </thead>\n  <tbody>\n    <tr>\n      <th>0</th>\n      <td>9/22/97 20:00</td>\n      <td>Solomons Island</td>\n      <td>MD</td>\n      <td>Disk</td>\n      <td>10 minutes</td>\n      <td>Close up at twilight, Stationary UFO.</td>\n      <td>8/5/09</td>\n    </tr>\n    <tr>\n      <th>1</th>\n      <td>9/19/97</td>\n      <td>Garden Grove</td>\n      <td>CA</td>\n      <td>Rectangle</td>\n      <td>4 mins.</td>\n      <td>Around 6:30 PM I was walking through a Vons Pa...</td>\n      <td>12/1/19</td>\n    </tr>\n    <tr>\n      <th>2</th>\n      <td>9/15/97 00:00</td>\n      <td>Houston</td>\n      <td>TX</td>\n      <td>Disk</td>\n      <td>5 minutes</td>\n      <td>Beautiful silver-colored flying saucer about t...</td>\n      <td>7/19/10</td>\n    </tr>\n    <tr>\n      <th>3</th>\n      <td>9/15/97 20:00</td>\n      <td>Santa Fe</td>\n      <td>NM</td>\n      <td>Light</td>\n      <td>2-3 minutes</td>\n      <td>Saw white dot of light moving in zig-zag motio...</td>\n      <td>11/9/17</td>\n    </tr>\n    <tr>\n      <th>4</th>\n      <td>9/15/97 20:00</td>\n      <td>Kent</td>\n      <td>WA</td>\n      <td>Sphere</td>\n      <td>5 minutes</td>\n      <td>Was looking thru a telescope at the moon in 19...</td>\n      <td>3/17/17</td>\n    </tr>\n    <tr>\n      <th>...</th>\n      <td>...</td>\n      <td>...</td>\n      <td>...</td>\n      <td>...</td>\n      <td>...</td>\n      <td>...</td>\n      <td>...</td>\n    </tr>\n    <tr>\n      <th>59007</th>\n      <td>8/1/17 06:15</td>\n      <td>Columbus (North)</td>\n      <td>GA</td>\n      <td>Fireball</td>\n      <td>3 seconds</td>\n      <td>Green streak growing in size moving from west ...</td>\n      <td>8/4/17</td>\n    </tr>\n    <tr>\n      <th>59008</th>\n      <td>8/1/17 02:45</td>\n      <td>Corcoran</td>\n      <td>MN</td>\n      <td>Light</td>\n      <td>Still going</td>\n      <td>Small light south west of Minneapolis maneuver...</td>\n      <td>8/4/17</td>\n    </tr>\n    <tr>\n      <th>59009</th>\n      <td>8/1/17 02:00</td>\n      <td>Moreno Valley</td>\n      <td>CA</td>\n      <td>Other</td>\n      <td>10 seconds</td>\n      <td>I was looking out the front windshield and loo...</td>\n      <td>8/4/17</td>\n    </tr>\n    <tr>\n      <th>59010</th>\n      <td>8/1/17 01:00</td>\n      <td>Bradenton</td>\n      <td>FL</td>\n      <td>Other</td>\n      <td>&lt;20 seconds</td>\n      <td>I was walking my dog about 1am on August 1, 20...</td>\n      <td>5/9/19</td>\n    </tr>\n    <tr>\n      <th>59011</th>\n      <td>8/1/17</td>\n      <td>Laurel</td>\n      <td>MD</td>\n      <td>Other</td>\n      <td>NaN</td>\n      <td>It was an alien project level 1 federal ran on...</td>\n      <td>6/25/20</td>\n    </tr>\n  </tbody>\n</table>\n<p>59012 rows × 7 columns</p>\n</div>"
     },
     "metadata": {},
     "execution_count": 18
    }
   ],
   "source": [
    "#carregando o dataframe\n",
    "OVNIS_EUA_WU = pd.read_csv('../5.7-Limpeza-de-dados/OVNIS_EUA_WU.csv')\n",
    "OVNIS_EUA_WU"
   ]
  },
  {
   "source": [
    "3. Manter somente os registros referentes aos 51 estados dos Estados Unidos"
   ],
   "cell_type": "markdown",
   "metadata": {}
  },
  {
   "cell_type": "code",
   "execution_count": 25,
   "metadata": {},
   "outputs": [
    {
     "output_type": "execute_result",
     "data": {
      "text/plain": "           date_time              city state      shape     duration  \\\n0      9/22/97 20:00   Solomons Island    MD       Disk   10 minutes   \n1            9/19/97      Garden Grove    CA  Rectangle      4 mins.   \n2      9/15/97 00:00           Houston    TX       Disk    5 minutes   \n3      9/15/97 20:00          Santa Fe    NM      Light  2-3 minutes   \n4      9/15/97 20:00              Kent    WA     Sphere    5 minutes   \n...              ...               ...   ...        ...          ...   \n59007   8/1/17 06:15  Columbus (North)    GA   Fireball    3 seconds   \n59008   8/1/17 02:45          Corcoran    MN      Light  Still going   \n59009   8/1/17 02:00     Moreno Valley    CA      Other   10 seconds   \n59010   8/1/17 01:00         Bradenton    FL      Other  &lt;20 seconds   \n59011         8/1/17            Laurel    MD      Other          NaN   \n\n                                                 summary   posted  \n0                  Close up at twilight, Stationary UFO.   8/5/09  \n1      Around 6:30 PM I was walking through a Vons Pa...  12/1/19  \n2      Beautiful silver-colored flying saucer about t...  7/19/10  \n3      Saw white dot of light moving in zig-zag motio...  11/9/17  \n4      Was looking thru a telescope at the moon in 19...  3/17/17  \n...                                                  ...      ...  \n59007  Green streak growing in size moving from west ...   8/4/17  \n59008  Small light south west of Minneapolis maneuver...   8/4/17  \n59009  I was looking out the front windshield and loo...   8/4/17  \n59010  I was walking my dog about 1am on August 1, 20...   5/9/19  \n59011  It was an alien project level 1 federal ran on...  6/25/20  \n\n[59012 rows x 7 columns]",
      "text/html": "<div>\n<style scoped>\n    .dataframe tbody tr th:only-of-type {\n        vertical-align: middle;\n    }\n\n    .dataframe tbody tr th {\n        vertical-align: top;\n    }\n\n    .dataframe thead th {\n        text-align: right;\n    }\n</style>\n<table border=\"1\" class=\"dataframe\">\n  <thead>\n    <tr style=\"text-align: right;\">\n      <th></th>\n      <th>date_time</th>\n      <th>city</th>\n      <th>state</th>\n      <th>shape</th>\n      <th>duration</th>\n      <th>summary</th>\n      <th>posted</th>\n    </tr>\n  </thead>\n  <tbody>\n    <tr>\n      <th>0</th>\n      <td>9/22/97 20:00</td>\n      <td>Solomons Island</td>\n      <td>MD</td>\n      <td>Disk</td>\n      <td>10 minutes</td>\n      <td>Close up at twilight, Stationary UFO.</td>\n      <td>8/5/09</td>\n    </tr>\n    <tr>\n      <th>1</th>\n      <td>9/19/97</td>\n      <td>Garden Grove</td>\n      <td>CA</td>\n      <td>Rectangle</td>\n      <td>4 mins.</td>\n      <td>Around 6:30 PM I was walking through a Vons Pa...</td>\n      <td>12/1/19</td>\n    </tr>\n    <tr>\n      <th>2</th>\n      <td>9/15/97 00:00</td>\n      <td>Houston</td>\n      <td>TX</td>\n      <td>Disk</td>\n      <td>5 minutes</td>\n      <td>Beautiful silver-colored flying saucer about t...</td>\n      <td>7/19/10</td>\n    </tr>\n    <tr>\n      <th>3</th>\n      <td>9/15/97 20:00</td>\n      <td>Santa Fe</td>\n      <td>NM</td>\n      <td>Light</td>\n      <td>2-3 minutes</td>\n      <td>Saw white dot of light moving in zig-zag motio...</td>\n      <td>11/9/17</td>\n    </tr>\n    <tr>\n      <th>4</th>\n      <td>9/15/97 20:00</td>\n      <td>Kent</td>\n      <td>WA</td>\n      <td>Sphere</td>\n      <td>5 minutes</td>\n      <td>Was looking thru a telescope at the moon in 19...</td>\n      <td>3/17/17</td>\n    </tr>\n    <tr>\n      <th>...</th>\n      <td>...</td>\n      <td>...</td>\n      <td>...</td>\n      <td>...</td>\n      <td>...</td>\n      <td>...</td>\n      <td>...</td>\n    </tr>\n    <tr>\n      <th>59007</th>\n      <td>8/1/17 06:15</td>\n      <td>Columbus (North)</td>\n      <td>GA</td>\n      <td>Fireball</td>\n      <td>3 seconds</td>\n      <td>Green streak growing in size moving from west ...</td>\n      <td>8/4/17</td>\n    </tr>\n    <tr>\n      <th>59008</th>\n      <td>8/1/17 02:45</td>\n      <td>Corcoran</td>\n      <td>MN</td>\n      <td>Light</td>\n      <td>Still going</td>\n      <td>Small light south west of Minneapolis maneuver...</td>\n      <td>8/4/17</td>\n    </tr>\n    <tr>\n      <th>59009</th>\n      <td>8/1/17 02:00</td>\n      <td>Moreno Valley</td>\n      <td>CA</td>\n      <td>Other</td>\n      <td>10 seconds</td>\n      <td>I was looking out the front windshield and loo...</td>\n      <td>8/4/17</td>\n    </tr>\n    <tr>\n      <th>59010</th>\n      <td>8/1/17 01:00</td>\n      <td>Bradenton</td>\n      <td>FL</td>\n      <td>Other</td>\n      <td>&lt;20 seconds</td>\n      <td>I was walking my dog about 1am on August 1, 20...</td>\n      <td>5/9/19</td>\n    </tr>\n    <tr>\n      <th>59011</th>\n      <td>8/1/17</td>\n      <td>Laurel</td>\n      <td>MD</td>\n      <td>Other</td>\n      <td>NaN</td>\n      <td>It was an alien project level 1 federal ran on...</td>\n      <td>6/25/20</td>\n    </tr>\n  </tbody>\n</table>\n<p>59012 rows × 7 columns</p>\n</div>"
     },
     "metadata": {},
     "execution_count": 25
    }
   ],
   "source": [
    "#Lista dos 51 estados dos Estados Unidos\n",
    "states_eua = ['AK','AL','AR','AZ','CA','CO','CT','DE','DC','FL',\n",
    "                      'GA','HI','IA','ID','IL','IN','KS','KY','LA','MA',\n",
    "                      'MD','ME','MI','MN','MO','MS','MT','NC','ND','NE',\n",
    "                      'NH','NJ','NM','NV','NY','OH','OK','OR','PA','RI',\n",
    "                      'SC','SD','TN','TX','UT','VA','VT','WA','WI','WV','WY']\n",
    "\n",
    "lista_eua = []\n",
    "\n",
    "for i in range(len(OVNIS_EUA_WU)):\n",
    "    if(OVNIS_EUA_WU.iloc[i,2] in states_eua):\n",
    "        lista_eua.append(OVNIS_EUA_WU.iloc[i])\n",
    "\n",
    "OVNIS_EUA_51 = pd.DataFrame(lista_eua).reset_index(drop= True)\n",
    "OVNIS_EUA_51"
   ]
  },
  {
   "cell_type": "code",
   "execution_count": 26,
   "metadata": {},
   "outputs": [],
   "source": [
    "#exportando o dataframe com os valores dos 51 estados\n",
    "OVNIS_EUA_51.to_csv('OVNIS_EUA_51.csv', index=False)"
   ]
  },
  {
   "cell_type": "code",
   "execution_count": 36,
   "metadata": {},
   "outputs": [
    {
     "output_type": "execute_result",
     "data": {
      "text/plain": "           date_time              city state      shape     duration  \\\n0      9/22/97 20:00   Solomons Island    MD       Disk   10 minutes   \n1            9/19/97      Garden Grove    CA  Rectangle      4 mins.   \n2      9/15/97 00:00           Houston    TX       Disk    5 minutes   \n3      9/15/97 20:00          Santa Fe    NM      Light  2-3 minutes   \n4      9/15/97 20:00              Kent    WA     Sphere    5 minutes   \n...              ...               ...   ...        ...          ...   \n59007   8/1/17 06:15  Columbus (North)    GA   Fireball    3 seconds   \n59008   8/1/17 02:45          Corcoran    MN      Light  Still going   \n59009   8/1/17 02:00     Moreno Valley    CA      Other   10 seconds   \n59010   8/1/17 01:00         Bradenton    FL      Other  &lt;20 seconds   \n59011         8/1/17            Laurel    MD      Other          NaN   \n\n                                                 summary   posted  \n0                  Close up at twilight, Stationary UFO.   8/5/09  \n1      Around 6:30 PM I was walking through a Vons Pa...  12/1/19  \n2      Beautiful silver-colored flying saucer about t...  7/19/10  \n3      Saw white dot of light moving in zig-zag motio...  11/9/17  \n4      Was looking thru a telescope at the moon in 19...  3/17/17  \n...                                                  ...      ...  \n59007  Green streak growing in size moving from west ...   8/4/17  \n59008  Small light south west of Minneapolis maneuver...   8/4/17  \n59009  I was looking out the front windshield and loo...   8/4/17  \n59010  I was walking my dog about 1am on August 1, 20...   5/9/19  \n59011  It was an alien project level 1 federal ran on...  6/25/20  \n\n[59012 rows x 7 columns]",
      "text/html": "<div>\n<style scoped>\n    .dataframe tbody tr th:only-of-type {\n        vertical-align: middle;\n    }\n\n    .dataframe tbody tr th {\n        vertical-align: top;\n    }\n\n    .dataframe thead th {\n        text-align: right;\n    }\n</style>\n<table border=\"1\" class=\"dataframe\">\n  <thead>\n    <tr style=\"text-align: right;\">\n      <th></th>\n      <th>date_time</th>\n      <th>city</th>\n      <th>state</th>\n      <th>shape</th>\n      <th>duration</th>\n      <th>summary</th>\n      <th>posted</th>\n    </tr>\n  </thead>\n  <tbody>\n    <tr>\n      <th>0</th>\n      <td>9/22/97 20:00</td>\n      <td>Solomons Island</td>\n      <td>MD</td>\n      <td>Disk</td>\n      <td>10 minutes</td>\n      <td>Close up at twilight, Stationary UFO.</td>\n      <td>8/5/09</td>\n    </tr>\n    <tr>\n      <th>1</th>\n      <td>9/19/97</td>\n      <td>Garden Grove</td>\n      <td>CA</td>\n      <td>Rectangle</td>\n      <td>4 mins.</td>\n      <td>Around 6:30 PM I was walking through a Vons Pa...</td>\n      <td>12/1/19</td>\n    </tr>\n    <tr>\n      <th>2</th>\n      <td>9/15/97 00:00</td>\n      <td>Houston</td>\n      <td>TX</td>\n      <td>Disk</td>\n      <td>5 minutes</td>\n      <td>Beautiful silver-colored flying saucer about t...</td>\n      <td>7/19/10</td>\n    </tr>\n    <tr>\n      <th>3</th>\n      <td>9/15/97 20:00</td>\n      <td>Santa Fe</td>\n      <td>NM</td>\n      <td>Light</td>\n      <td>2-3 minutes</td>\n      <td>Saw white dot of light moving in zig-zag motio...</td>\n      <td>11/9/17</td>\n    </tr>\n    <tr>\n      <th>4</th>\n      <td>9/15/97 20:00</td>\n      <td>Kent</td>\n      <td>WA</td>\n      <td>Sphere</td>\n      <td>5 minutes</td>\n      <td>Was looking thru a telescope at the moon in 19...</td>\n      <td>3/17/17</td>\n    </tr>\n    <tr>\n      <th>...</th>\n      <td>...</td>\n      <td>...</td>\n      <td>...</td>\n      <td>...</td>\n      <td>...</td>\n      <td>...</td>\n      <td>...</td>\n    </tr>\n    <tr>\n      <th>59007</th>\n      <td>8/1/17 06:15</td>\n      <td>Columbus (North)</td>\n      <td>GA</td>\n      <td>Fireball</td>\n      <td>3 seconds</td>\n      <td>Green streak growing in size moving from west ...</td>\n      <td>8/4/17</td>\n    </tr>\n    <tr>\n      <th>59008</th>\n      <td>8/1/17 02:45</td>\n      <td>Corcoran</td>\n      <td>MN</td>\n      <td>Light</td>\n      <td>Still going</td>\n      <td>Small light south west of Minneapolis maneuver...</td>\n      <td>8/4/17</td>\n    </tr>\n    <tr>\n      <th>59009</th>\n      <td>8/1/17 02:00</td>\n      <td>Moreno Valley</td>\n      <td>CA</td>\n      <td>Other</td>\n      <td>10 seconds</td>\n      <td>I was looking out the front windshield and loo...</td>\n      <td>8/4/17</td>\n    </tr>\n    <tr>\n      <th>59010</th>\n      <td>8/1/17 01:00</td>\n      <td>Bradenton</td>\n      <td>FL</td>\n      <td>Other</td>\n      <td>&lt;20 seconds</td>\n      <td>I was walking my dog about 1am on August 1, 20...</td>\n      <td>5/9/19</td>\n    </tr>\n    <tr>\n      <th>59011</th>\n      <td>8/1/17</td>\n      <td>Laurel</td>\n      <td>MD</td>\n      <td>Other</td>\n      <td>NaN</td>\n      <td>It was an alien project level 1 federal ran on...</td>\n      <td>6/25/20</td>\n    </tr>\n  </tbody>\n</table>\n<p>59012 rows × 7 columns</p>\n</div>"
     },
     "metadata": {},
     "execution_count": 36
    }
   ],
   "source": [
    "#carregando o dataframe\n",
    "OVNIS_EUA_51 = pd.read_csv('../5.7-Limpeza-de-dados/OVNIS_EUA_51.csv')\n",
    "OVNIS_EUA_51"
   ]
  },
  {
   "source": [
    "4. Remover variáveis irrelevantes para a análise (Duration, Summary e Posted)"
   ],
   "cell_type": "markdown",
   "metadata": {}
  },
  {
   "cell_type": "code",
   "execution_count": 37,
   "metadata": {},
   "outputs": [
    {
     "output_type": "execute_result",
     "data": {
      "text/plain": "           date_time              city state      shape\n0      9/22/97 20:00   Solomons Island    MD       Disk\n1            9/19/97      Garden Grove    CA  Rectangle\n2      9/15/97 00:00           Houston    TX       Disk\n3      9/15/97 20:00          Santa Fe    NM      Light\n4      9/15/97 20:00              Kent    WA     Sphere\n...              ...               ...   ...        ...\n59007   8/1/17 06:15  Columbus (North)    GA   Fireball\n59008   8/1/17 02:45          Corcoran    MN      Light\n59009   8/1/17 02:00     Moreno Valley    CA      Other\n59010   8/1/17 01:00         Bradenton    FL      Other\n59011         8/1/17            Laurel    MD      Other\n\n[59012 rows x 4 columns]",
      "text/html": "<div>\n<style scoped>\n    .dataframe tbody tr th:only-of-type {\n        vertical-align: middle;\n    }\n\n    .dataframe tbody tr th {\n        vertical-align: top;\n    }\n\n    .dataframe thead th {\n        text-align: right;\n    }\n</style>\n<table border=\"1\" class=\"dataframe\">\n  <thead>\n    <tr style=\"text-align: right;\">\n      <th></th>\n      <th>date_time</th>\n      <th>city</th>\n      <th>state</th>\n      <th>shape</th>\n    </tr>\n  </thead>\n  <tbody>\n    <tr>\n      <th>0</th>\n      <td>9/22/97 20:00</td>\n      <td>Solomons Island</td>\n      <td>MD</td>\n      <td>Disk</td>\n    </tr>\n    <tr>\n      <th>1</th>\n      <td>9/19/97</td>\n      <td>Garden Grove</td>\n      <td>CA</td>\n      <td>Rectangle</td>\n    </tr>\n    <tr>\n      <th>2</th>\n      <td>9/15/97 00:00</td>\n      <td>Houston</td>\n      <td>TX</td>\n      <td>Disk</td>\n    </tr>\n    <tr>\n      <th>3</th>\n      <td>9/15/97 20:00</td>\n      <td>Santa Fe</td>\n      <td>NM</td>\n      <td>Light</td>\n    </tr>\n    <tr>\n      <th>4</th>\n      <td>9/15/97 20:00</td>\n      <td>Kent</td>\n      <td>WA</td>\n      <td>Sphere</td>\n    </tr>\n    <tr>\n      <th>...</th>\n      <td>...</td>\n      <td>...</td>\n      <td>...</td>\n      <td>...</td>\n    </tr>\n    <tr>\n      <th>59007</th>\n      <td>8/1/17 06:15</td>\n      <td>Columbus (North)</td>\n      <td>GA</td>\n      <td>Fireball</td>\n    </tr>\n    <tr>\n      <th>59008</th>\n      <td>8/1/17 02:45</td>\n      <td>Corcoran</td>\n      <td>MN</td>\n      <td>Light</td>\n    </tr>\n    <tr>\n      <th>59009</th>\n      <td>8/1/17 02:00</td>\n      <td>Moreno Valley</td>\n      <td>CA</td>\n      <td>Other</td>\n    </tr>\n    <tr>\n      <th>59010</th>\n      <td>8/1/17 01:00</td>\n      <td>Bradenton</td>\n      <td>FL</td>\n      <td>Other</td>\n    </tr>\n    <tr>\n      <th>59011</th>\n      <td>8/1/17</td>\n      <td>Laurel</td>\n      <td>MD</td>\n      <td>Other</td>\n    </tr>\n  </tbody>\n</table>\n<p>59012 rows × 4 columns</p>\n</div>"
     },
     "metadata": {},
     "execution_count": 37
    }
   ],
   "source": [
    "#removendo as colunas Duration, Summary e Posted do Dataframe\n",
    "# DC = DROP COLUMNS\n",
    "OVNIS_EUA_51_DC = OVNIS_EUA_51.drop(labels=['duration', 'summary', 'posted'], axis=1)\n",
    "OVNIS_EUA_51_DC"
   ]
  },
  {
   "cell_type": "code",
   "execution_count": 38,
   "metadata": {},
   "outputs": [],
   "source": [
    "#exportando o csv sem as colunas duration, summary e posted\n",
    "OVNIS_EUA_51_DC.to_csv('OVNIS_EUA_51_DC.csv', index=False)"
   ]
  },
  {
   "cell_type": "code",
   "execution_count": 7,
   "metadata": {},
   "outputs": [
    {
     "output_type": "execute_result",
     "data": {
      "text/plain": "           date_time              city state      shape\n0      9/22/97 20:00   Solomons Island    MD       Disk\n1            9/19/97      Garden Grove    CA  Rectangle\n2      9/15/97 00:00           Houston    TX       Disk\n3      9/15/97 20:00          Santa Fe    NM      Light\n4      9/15/97 20:00              Kent    WA     Sphere\n...              ...               ...   ...        ...\n59007   8/1/17 06:15  Columbus (North)    GA   Fireball\n59008   8/1/17 02:45          Corcoran    MN      Light\n59009   8/1/17 02:00     Moreno Valley    CA      Other\n59010   8/1/17 01:00         Bradenton    FL      Other\n59011         8/1/17            Laurel    MD      Other\n\n[59012 rows x 4 columns]",
      "text/html": "<div>\n<style scoped>\n    .dataframe tbody tr th:only-of-type {\n        vertical-align: middle;\n    }\n\n    .dataframe tbody tr th {\n        vertical-align: top;\n    }\n\n    .dataframe thead th {\n        text-align: right;\n    }\n</style>\n<table border=\"1\" class=\"dataframe\">\n  <thead>\n    <tr style=\"text-align: right;\">\n      <th></th>\n      <th>date_time</th>\n      <th>city</th>\n      <th>state</th>\n      <th>shape</th>\n    </tr>\n  </thead>\n  <tbody>\n    <tr>\n      <th>0</th>\n      <td>9/22/97 20:00</td>\n      <td>Solomons Island</td>\n      <td>MD</td>\n      <td>Disk</td>\n    </tr>\n    <tr>\n      <th>1</th>\n      <td>9/19/97</td>\n      <td>Garden Grove</td>\n      <td>CA</td>\n      <td>Rectangle</td>\n    </tr>\n    <tr>\n      <th>2</th>\n      <td>9/15/97 00:00</td>\n      <td>Houston</td>\n      <td>TX</td>\n      <td>Disk</td>\n    </tr>\n    <tr>\n      <th>3</th>\n      <td>9/15/97 20:00</td>\n      <td>Santa Fe</td>\n      <td>NM</td>\n      <td>Light</td>\n    </tr>\n    <tr>\n      <th>4</th>\n      <td>9/15/97 20:00</td>\n      <td>Kent</td>\n      <td>WA</td>\n      <td>Sphere</td>\n    </tr>\n    <tr>\n      <th>...</th>\n      <td>...</td>\n      <td>...</td>\n      <td>...</td>\n      <td>...</td>\n    </tr>\n    <tr>\n      <th>59007</th>\n      <td>8/1/17 06:15</td>\n      <td>Columbus (North)</td>\n      <td>GA</td>\n      <td>Fireball</td>\n    </tr>\n    <tr>\n      <th>59008</th>\n      <td>8/1/17 02:45</td>\n      <td>Corcoran</td>\n      <td>MN</td>\n      <td>Light</td>\n    </tr>\n    <tr>\n      <th>59009</th>\n      <td>8/1/17 02:00</td>\n      <td>Moreno Valley</td>\n      <td>CA</td>\n      <td>Other</td>\n    </tr>\n    <tr>\n      <th>59010</th>\n      <td>8/1/17 01:00</td>\n      <td>Bradenton</td>\n      <td>FL</td>\n      <td>Other</td>\n    </tr>\n    <tr>\n      <th>59011</th>\n      <td>8/1/17</td>\n      <td>Laurel</td>\n      <td>MD</td>\n      <td>Other</td>\n    </tr>\n  </tbody>\n</table>\n<p>59012 rows × 4 columns</p>\n</div>"
     },
     "metadata": {},
     "execution_count": 7
    }
   ],
   "source": [
    "#carregando o dataframe\n",
    "OVNIS_EUA_51_DC = pd.read_csv('../5.7-Limpeza-de-dados/OVNIS_EUA_51_DC.csv')\n",
    "OVNIS_EUA_51_DC"
   ]
  },
  {
   "source": [
    "5. Manter somente os registros de Shapes mais populares (com mais de 1000 ocorrências)"
   ],
   "cell_type": "markdown",
   "metadata": {}
  },
  {
   "cell_type": "code",
   "execution_count": 29,
   "metadata": {},
   "outputs": [
    {
     "output_type": "execute_result",
     "data": {
      "text/plain": "       forma  quantidade\n13  Cylinder         973\n14   Diamond         936\n15   Chevron         697\n16  Teardrop         591\n17       Egg         458\n18      Cone         262\n19     Cross         215",
      "text/html": "<div>\n<style scoped>\n    .dataframe tbody tr th:only-of-type {\n        vertical-align: middle;\n    }\n\n    .dataframe tbody tr th {\n        vertical-align: top;\n    }\n\n    .dataframe thead th {\n        text-align: right;\n    }\n</style>\n<table border=\"1\" class=\"dataframe\">\n  <thead>\n    <tr style=\"text-align: right;\">\n      <th></th>\n      <th>forma</th>\n      <th>quantidade</th>\n    </tr>\n  </thead>\n  <tbody>\n    <tr>\n      <th>13</th>\n      <td>Cylinder</td>\n      <td>973</td>\n    </tr>\n    <tr>\n      <th>14</th>\n      <td>Diamond</td>\n      <td>936</td>\n    </tr>\n    <tr>\n      <th>15</th>\n      <td>Chevron</td>\n      <td>697</td>\n    </tr>\n    <tr>\n      <th>16</th>\n      <td>Teardrop</td>\n      <td>591</td>\n    </tr>\n    <tr>\n      <th>17</th>\n      <td>Egg</td>\n      <td>458</td>\n    </tr>\n    <tr>\n      <th>18</th>\n      <td>Cone</td>\n      <td>262</td>\n    </tr>\n    <tr>\n      <th>19</th>\n      <td>Cross</td>\n      <td>215</td>\n    </tr>\n  </tbody>\n</table>\n</div>"
     },
     "metadata": {},
     "execution_count": 29
    }
   ],
   "source": [
    "#Filtrando as formas menos populares para exclusão das linhas do dataframe\n",
    "shapes_menos_populares = pd.value_counts(OVNIS_EUA_51_DC['shape']).to_frame().reset_index()\n",
    "shapes_menos_populares.columns = ['forma', 'quantidade']\n",
    "shapes_menos_populares_excluir =  shapes_menos_populares.query(\"quantidade <=1000\")\n",
    "shapes_menos_populares_excluir"
   ]
  },
  {
   "cell_type": "code",
   "execution_count": 31,
   "metadata": {},
   "outputs": [
    {
     "output_type": "execute_result",
     "data": {
      "text/plain": "            date_time                           city state     shape\n18     10/15/97 15:00  New York City (Staten Island)    NY  Cylinder\n32     11/14/97 21:00                        Seattle    WA   Diamond\n47       1/1/98 13:00                     Cannon AFB    NM   Diamond\n69      4/15/98 13:00                    San Antonio    TX  Cylinder\n72       4/9/98 23:00                  Golden Valley    MN  Cylinder\n...               ...                            ...   ...       ...\n58967    8/4/17 23:00                      Kalispell    MT   Diamond\n58979    8/4/17 01:00                         Martin    MI  Cylinder\n58984    8/3/17 21:40                  South Daytona    FL       Egg\n59000    8/1/17 21:00                       Estacada    OR   Diamond\n59004    8/1/17 19:50                        Newhall    CA  Teardrop\n\n[4132 rows x 4 columns]",
      "text/html": "<div>\n<style scoped>\n    .dataframe tbody tr th:only-of-type {\n        vertical-align: middle;\n    }\n\n    .dataframe tbody tr th {\n        vertical-align: top;\n    }\n\n    .dataframe thead th {\n        text-align: right;\n    }\n</style>\n<table border=\"1\" class=\"dataframe\">\n  <thead>\n    <tr style=\"text-align: right;\">\n      <th></th>\n      <th>date_time</th>\n      <th>city</th>\n      <th>state</th>\n      <th>shape</th>\n    </tr>\n  </thead>\n  <tbody>\n    <tr>\n      <th>18</th>\n      <td>10/15/97 15:00</td>\n      <td>New York City (Staten Island)</td>\n      <td>NY</td>\n      <td>Cylinder</td>\n    </tr>\n    <tr>\n      <th>32</th>\n      <td>11/14/97 21:00</td>\n      <td>Seattle</td>\n      <td>WA</td>\n      <td>Diamond</td>\n    </tr>\n    <tr>\n      <th>47</th>\n      <td>1/1/98 13:00</td>\n      <td>Cannon AFB</td>\n      <td>NM</td>\n      <td>Diamond</td>\n    </tr>\n    <tr>\n      <th>69</th>\n      <td>4/15/98 13:00</td>\n      <td>San Antonio</td>\n      <td>TX</td>\n      <td>Cylinder</td>\n    </tr>\n    <tr>\n      <th>72</th>\n      <td>4/9/98 23:00</td>\n      <td>Golden Valley</td>\n      <td>MN</td>\n      <td>Cylinder</td>\n    </tr>\n    <tr>\n      <th>...</th>\n      <td>...</td>\n      <td>...</td>\n      <td>...</td>\n      <td>...</td>\n    </tr>\n    <tr>\n      <th>58967</th>\n      <td>8/4/17 23:00</td>\n      <td>Kalispell</td>\n      <td>MT</td>\n      <td>Diamond</td>\n    </tr>\n    <tr>\n      <th>58979</th>\n      <td>8/4/17 01:00</td>\n      <td>Martin</td>\n      <td>MI</td>\n      <td>Cylinder</td>\n    </tr>\n    <tr>\n      <th>58984</th>\n      <td>8/3/17 21:40</td>\n      <td>South Daytona</td>\n      <td>FL</td>\n      <td>Egg</td>\n    </tr>\n    <tr>\n      <th>59000</th>\n      <td>8/1/17 21:00</td>\n      <td>Estacada</td>\n      <td>OR</td>\n      <td>Diamond</td>\n    </tr>\n    <tr>\n      <th>59004</th>\n      <td>8/1/17 19:50</td>\n      <td>Newhall</td>\n      <td>CA</td>\n      <td>Teardrop</td>\n    </tr>\n  </tbody>\n</table>\n<p>4132 rows × 4 columns</p>\n</div>"
     },
     "metadata": {},
     "execution_count": 31
    }
   ],
   "source": [
    "#indentificando  as formas Cylinder, Diamond, Chevron, Teardrop, Egg, Cone e Cross\n",
    "formas_excluir = ((OVNIS_EUA_51_DC['shape'] == 'Cylinder') | (OVNIS_EUA_51_DC['shape'] == 'Diamond')  | (OVNIS_EUA_51_DC['shape'] == 'Chevron')  |                          (OVNIS_EUA_51_DC['shape'] == 'Teardrop') | (OVNIS_EUA_51_DC['shape'] == 'Teardrop') | (OVNIS_EUA_51_DC['shape'] == 'Egg') |\n",
    "                        (OVNIS_EUA_51_DC['shape'] == 'Cone') | (OVNIS_EUA_51_DC['shape'] == 'Cross'))\n",
    "\n",
    "OVNIS_EUA_51_DC[formas_excluir]"
   ]
  },
  {
   "cell_type": "code",
   "execution_count": 33,
   "metadata": {},
   "outputs": [
    {
     "output_type": "execute_result",
     "data": {
      "text/plain": "           date_time              city state      shape\n0      9/22/97 20:00   Solomons Island    MD       Disk\n1            9/19/97      Garden Grove    CA  Rectangle\n2      9/15/97 00:00           Houston    TX       Disk\n3      9/15/97 20:00          Santa Fe    NM      Light\n4      9/15/97 20:00              Kent    WA     Sphere\n...              ...               ...   ...        ...\n59007   8/1/17 06:15  Columbus (North)    GA   Fireball\n59008   8/1/17 02:45          Corcoran    MN      Light\n59009   8/1/17 02:00     Moreno Valley    CA      Other\n59010   8/1/17 01:00         Bradenton    FL      Other\n59011         8/1/17            Laurel    MD      Other\n\n[54880 rows x 4 columns]",
      "text/html": "<div>\n<style scoped>\n    .dataframe tbody tr th:only-of-type {\n        vertical-align: middle;\n    }\n\n    .dataframe tbody tr th {\n        vertical-align: top;\n    }\n\n    .dataframe thead th {\n        text-align: right;\n    }\n</style>\n<table border=\"1\" class=\"dataframe\">\n  <thead>\n    <tr style=\"text-align: right;\">\n      <th></th>\n      <th>date_time</th>\n      <th>city</th>\n      <th>state</th>\n      <th>shape</th>\n    </tr>\n  </thead>\n  <tbody>\n    <tr>\n      <th>0</th>\n      <td>9/22/97 20:00</td>\n      <td>Solomons Island</td>\n      <td>MD</td>\n      <td>Disk</td>\n    </tr>\n    <tr>\n      <th>1</th>\n      <td>9/19/97</td>\n      <td>Garden Grove</td>\n      <td>CA</td>\n      <td>Rectangle</td>\n    </tr>\n    <tr>\n      <th>2</th>\n      <td>9/15/97 00:00</td>\n      <td>Houston</td>\n      <td>TX</td>\n      <td>Disk</td>\n    </tr>\n    <tr>\n      <th>3</th>\n      <td>9/15/97 20:00</td>\n      <td>Santa Fe</td>\n      <td>NM</td>\n      <td>Light</td>\n    </tr>\n    <tr>\n      <th>4</th>\n      <td>9/15/97 20:00</td>\n      <td>Kent</td>\n      <td>WA</td>\n      <td>Sphere</td>\n    </tr>\n    <tr>\n      <th>...</th>\n      <td>...</td>\n      <td>...</td>\n      <td>...</td>\n      <td>...</td>\n    </tr>\n    <tr>\n      <th>59007</th>\n      <td>8/1/17 06:15</td>\n      <td>Columbus (North)</td>\n      <td>GA</td>\n      <td>Fireball</td>\n    </tr>\n    <tr>\n      <th>59008</th>\n      <td>8/1/17 02:45</td>\n      <td>Corcoran</td>\n      <td>MN</td>\n      <td>Light</td>\n    </tr>\n    <tr>\n      <th>59009</th>\n      <td>8/1/17 02:00</td>\n      <td>Moreno Valley</td>\n      <td>CA</td>\n      <td>Other</td>\n    </tr>\n    <tr>\n      <th>59010</th>\n      <td>8/1/17 01:00</td>\n      <td>Bradenton</td>\n      <td>FL</td>\n      <td>Other</td>\n    </tr>\n    <tr>\n      <th>59011</th>\n      <td>8/1/17</td>\n      <td>Laurel</td>\n      <td>MD</td>\n      <td>Other</td>\n    </tr>\n  </tbody>\n</table>\n<p>54880 rows × 4 columns</p>\n</div>"
     },
     "metadata": {},
     "execution_count": 33
    }
   ],
   "source": [
    "#Excluindo as linhas do dataframe das formas menos populares\n",
    "#removendo as formas Cylinder, Diamond, Chevron, Teardrop, Egg, Cone e Cross do dataframe\n",
    "# WS = WITHOUT SHAPES MENOS POPULARES (<= 1000)\n",
    "OVNIS_EUA_51_DC_WS = OVNIS_EUA_51_DC.drop(index=OVNIS_EUA_51_DC[formas_excluir].index)\n",
    "\n",
    "OVNIS_EUA_51_DC_WS"
   ]
  },
  {
   "source": [
    "6. Salvar o dataframe final em um arquivo CSV com o nome \"df_OVNI_limpo\""
   ],
   "cell_type": "markdown",
   "metadata": {}
  },
  {
   "source": [
    "#salvando o arquivo final\n",
    "OVNIS_EUA_51_DC_WS.to_csv('df_OVNI_limpo.csv', index=False)"
   ],
   "cell_type": "code",
   "metadata": {},
   "execution_count": 34,
   "outputs": []
  }
 ]
}