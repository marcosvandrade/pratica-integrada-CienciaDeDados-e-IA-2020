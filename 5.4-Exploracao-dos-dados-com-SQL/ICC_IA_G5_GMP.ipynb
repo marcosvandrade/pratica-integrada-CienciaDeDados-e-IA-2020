{
  "nbformat": 4,
  "nbformat_minor": 0,
  "metadata": {
    "colab": {
      "name": "ICC_IA_G5 - GMP.ipynb",
      "provenance": [],
      "collapsed_sections": [
        "ovG05B6eNPQy"
      ],
      "toc_visible": true
    },
    "kernelspec": {
      "name": "Python 3.8.5 64-bit",
      "display_name": "Python 3.8.5 64-bit",
      "metadata": {
        "interpreter": {
          "hash": "5b93c7d2641c620ea3a1a94007b995529962ea5a20273563198d6021783bfed8"
        }
      }
    }
  },
  "cells": [
    {
      "cell_type": "markdown",
      "metadata": {
        "id": "ovG05B6eNPQy",
        "colab_type": "text"
      },
      "source": [
        "# 5.4 Exploração dos dados com SQL"
      ]
    },
    {
      "cell_type": "code",
      "metadata": {
        "id": "gEqzCiHQNKB3",
        "colab_type": "code",
        "colab": {}
      },
      "source": [
        "import pandas as pd\n",
        "import numpy as np"
      ],
      "execution_count": 4,
      "outputs": []
    },
    {
      "cell_type": "code",
      "metadata": {
        "id": "41jKeOIGNg4O",
        "colab_type": "code",
        "colab": {}
      },
      "source": [
        "#carregando o csv\n",
        "#ovnis = pd.read_csv('OVNIS.csv')\n",
        "# código para usar no git\n",
        "ovnis = pd.read_csv('../5.2-Script-da-coleta/OVNIS.csv')"
      ],
      "execution_count": 7,
      "outputs": []
    },
    {
      "cell_type": "code",
      "metadata": {
        "id": "Y6Bw-y0ENih0",
        "colab_type": "code",
        "colab": {}
      },
      "source": [
        "#colocando as colunas em minusculo, tirando os espaços e trocando as '/' por _ para consultas sql\n",
        "ovnis.rename(columns = lambda x: x.replace(' ', '').replace('/', '_').lower(), inplace=True)"
      ],
      "execution_count": 8,
      "outputs": []
    },
    {
      "cell_type": "code",
      "metadata": {
        "id": "lWyXDQ0PNlBz",
        "colab_type": "code",
        "colab": {
          "base_uri": "https://localhost:8080/",
          "height": 34
        },
        "outputId": "3df5c4ad-74b7-464f-f562-944074708a68"
      },
      "source": [
        "#Quantidade de linhas\n",
        "len(ovnis)"
      ],
      "execution_count": 9,
      "outputs": [
        {
          "output_type": "execute_result",
          "data": {
            "text/plain": "71901"
          },
          "metadata": {},
          "execution_count": 9
        }
      ]
    },
    {
      "cell_type": "code",
      "metadata": {
        "id": "9e1qY-zzNrng",
        "colab_type": "code",
        "colab": {}
      },
      "source": [
        "#Remover campos vazios (sem estado)\n",
        "ovnis_limpo = ovnis[ovnis.state.notnull()].reset_index(drop=True)\n",
        "#ovnis_limpo"
      ],
      "execution_count": 10,
      "outputs": []
    },
    {
      "cell_type": "markdown",
      "metadata": {
        "id": "T2IJpwsDOWJK",
        "colab_type": "text"
      },
      "source": [
        "Comparando as quantidades depois da limpeza do Estados que estavam em branco"
      ]
    },
    {
      "cell_type": "code",
      "metadata": {
        "id": "vZgr5jYbN-qJ",
        "colab_type": "code",
        "colab": {}
      },
      "source": [
        "#antes\n",
        "len(ovnis)"
      ],
      "execution_count": null,
      "outputs": []
    },
    {
      "cell_type": "code",
      "metadata": {
        "id": "KiyanUoxOeWo",
        "colab_type": "code",
        "colab": {
          "base_uri": "https://localhost:8080/",
          "height": 34
        },
        "outputId": "0bee51f5-99dc-4223-9f7a-60e1b93a8d5d"
      },
      "source": [
        "#depois\n",
        "len(ovnis_limpo)"
      ],
      "execution_count": null,
      "outputs": []
    },
    {
      "cell_type": "markdown",
      "metadata": {
        "id": "zAUYj1r6yocy",
        "colab_type": "text"
      },
      "source": [
        "Conhecendo as variáveis importadas"
      ]
    },
    {
      "cell_type": "code",
      "metadata": {
        "id": "c8Errlcriblt",
        "colab_type": "code",
        "colab": {
          "base_uri": "https://localhost:8080/",
          "height": 51
        },
        "outputId": "197c7605-803d-4853-bf06-259b477a478e"
      },
      "source": [
        "#conhecendo as variáveis importadas\n",
        "ovnis_limpo.columns.values"
      ],
      "execution_count": null,
      "outputs": []
    },
    {
      "cell_type": "code",
      "metadata": {
        "id": "lBqkcaLEzm2A",
        "colab_type": "code",
        "colab": {
          "base_uri": "https://localhost:8080/",
          "height": 204
        },
        "outputId": "e0ed6aa3-bdbe-4a16-c3af-e5300b8fc43b"
      },
      "source": [
        "#conhecendo a estrutura da tabela\n",
        "ovnis_limpo.head()"
      ],
      "execution_count": 11,
      "outputs": [
        {
          "output_type": "execute_result",
          "data": {
            "text/plain": "       date_time                  city state      shape       duration  \\\n0  9/30/97 20:00  Nova Scotia (Canada)    NS      Light  8-10 seconds.   \n1  9/22/97 20:00       Solomons Island    MD       Disk     10 minutes   \n2        9/19/97          Garden Grove    CA  Rectangle        4 mins.   \n3  9/18/97 20:15           Panama City    FL    Unknown     30 seconds   \n4  9/15/97 00:00               Houston    TX       Disk      5 minutes   \n\n                                             summary    posted  \n0  Single light resembling a star, but moving spu...  10/30/06  \n1              Close up at twilight, Stationary UFO.    8/5/09  \n2  Around 6:30 PM I was walking through a Vons Pa...   12/1/19  \n3  Looked like stars in the sky so far up/moveing...   3/13/12  \n4  Beautiful silver-colored flying saucer about t...   7/19/10  ",
            "text/html": "<div>\n<style scoped>\n    .dataframe tbody tr th:only-of-type {\n        vertical-align: middle;\n    }\n\n    .dataframe tbody tr th {\n        vertical-align: top;\n    }\n\n    .dataframe thead th {\n        text-align: right;\n    }\n</style>\n<table border=\"1\" class=\"dataframe\">\n  <thead>\n    <tr style=\"text-align: right;\">\n      <th></th>\n      <th>date_time</th>\n      <th>city</th>\n      <th>state</th>\n      <th>shape</th>\n      <th>duration</th>\n      <th>summary</th>\n      <th>posted</th>\n    </tr>\n  </thead>\n  <tbody>\n    <tr>\n      <th>0</th>\n      <td>9/30/97 20:00</td>\n      <td>Nova Scotia (Canada)</td>\n      <td>NS</td>\n      <td>Light</td>\n      <td>8-10 seconds.</td>\n      <td>Single light resembling a star, but moving spu...</td>\n      <td>10/30/06</td>\n    </tr>\n    <tr>\n      <th>1</th>\n      <td>9/22/97 20:00</td>\n      <td>Solomons Island</td>\n      <td>MD</td>\n      <td>Disk</td>\n      <td>10 minutes</td>\n      <td>Close up at twilight, Stationary UFO.</td>\n      <td>8/5/09</td>\n    </tr>\n    <tr>\n      <th>2</th>\n      <td>9/19/97</td>\n      <td>Garden Grove</td>\n      <td>CA</td>\n      <td>Rectangle</td>\n      <td>4 mins.</td>\n      <td>Around 6:30 PM I was walking through a Vons Pa...</td>\n      <td>12/1/19</td>\n    </tr>\n    <tr>\n      <th>3</th>\n      <td>9/18/97 20:15</td>\n      <td>Panama City</td>\n      <td>FL</td>\n      <td>Unknown</td>\n      <td>30 seconds</td>\n      <td>Looked like stars in the sky so far up/moveing...</td>\n      <td>3/13/12</td>\n    </tr>\n    <tr>\n      <th>4</th>\n      <td>9/15/97 00:00</td>\n      <td>Houston</td>\n      <td>TX</td>\n      <td>Disk</td>\n      <td>5 minutes</td>\n      <td>Beautiful silver-colored flying saucer about t...</td>\n      <td>7/19/10</td>\n    </tr>\n  </tbody>\n</table>\n</div>"
          },
          "metadata": {},
          "execution_count": 11
        }
      ]
    },
    {
      "cell_type": "markdown",
      "metadata": {
        "id": "FsZYsWiJQZS8",
        "colab_type": "text"
      },
      "source": [
        "Começando a Análise dos dados após a limpeza"
      ]
    },
    {
      "cell_type": "code",
      "metadata": {
        "id": "cB2nKWezNmjl",
        "colab_type": "code",
        "colab": {
          "base_uri": "https://localhost:8080/",
          "height": 419
        },
        "outputId": "f632f275-da37-408b-ed05-13456f953325"
      },
      "source": [
        "#Quantos relatos ocorreram por estado em ordem decrescente\n",
        "qtd_relatos_estados = ovnis_limpo.state.value_counts().to_frame().reset_index()\n",
        "qtd_relatos_estados.columns = ['estado', 'relatos']\n",
        "qtd_relatos_estados"
      ],
      "execution_count": 12,
      "outputs": [
        {
          "output_type": "execute_result",
          "data": {
            "text/plain": "   estado  relatos\n0      CA     7911\n1      FL     4352\n2      WA     3225\n3      TX     2882\n4      NY     2824\n..    ...      ...\n59     NF       21\n60     YT       14\n61     PE        9\n62     NT        7\n63     SA        4\n\n[64 rows x 2 columns]",
            "text/html": "<div>\n<style scoped>\n    .dataframe tbody tr th:only-of-type {\n        vertical-align: middle;\n    }\n\n    .dataframe tbody tr th {\n        vertical-align: top;\n    }\n\n    .dataframe thead th {\n        text-align: right;\n    }\n</style>\n<table border=\"1\" class=\"dataframe\">\n  <thead>\n    <tr style=\"text-align: right;\">\n      <th></th>\n      <th>estado</th>\n      <th>relatos</th>\n    </tr>\n  </thead>\n  <tbody>\n    <tr>\n      <th>0</th>\n      <td>CA</td>\n      <td>7911</td>\n    </tr>\n    <tr>\n      <th>1</th>\n      <td>FL</td>\n      <td>4352</td>\n    </tr>\n    <tr>\n      <th>2</th>\n      <td>WA</td>\n      <td>3225</td>\n    </tr>\n    <tr>\n      <th>3</th>\n      <td>TX</td>\n      <td>2882</td>\n    </tr>\n    <tr>\n      <th>4</th>\n      <td>NY</td>\n      <td>2824</td>\n    </tr>\n    <tr>\n      <th>...</th>\n      <td>...</td>\n      <td>...</td>\n    </tr>\n    <tr>\n      <th>59</th>\n      <td>NF</td>\n      <td>21</td>\n    </tr>\n    <tr>\n      <th>60</th>\n      <td>YT</td>\n      <td>14</td>\n    </tr>\n    <tr>\n      <th>61</th>\n      <td>PE</td>\n      <td>9</td>\n    </tr>\n    <tr>\n      <th>62</th>\n      <td>NT</td>\n      <td>7</td>\n    </tr>\n    <tr>\n      <th>63</th>\n      <td>SA</td>\n      <td>4</td>\n    </tr>\n  </tbody>\n</table>\n<p>64 rows × 2 columns</p>\n</div>"
          },
          "metadata": {},
          "execution_count": 12
        }
      ]
    },
    {
      "cell_type": "code",
      "metadata": {
        "id": "pzLWbRgcTfwR",
        "colab_type": "code",
        "colab": {
          "base_uri": "https://localhost:8080/",
          "height": 419
        },
        "outputId": "4615f2df-c741-4c14-971c-cc7e82d1fd19"
      },
      "source": [
        "#Consulta por cidades, com o objetivo de saber quais contêm o maior número de relatos (cidades que apresentem ao menos 10 relatos).\n",
        "relatos_cidades = ovnis_limpo.city.value_counts().to_frame().reset_index()\n",
        "relatos_cidades.columns = ['cidade', 'relatos']\n",
        "qtd_relatos_cidades = relatos_cidades.query(\"relatos >= 10\")\n",
        "qtd_relatos_cidades"
      ],
      "execution_count": 13,
      "outputs": [
        {
          "output_type": "execute_result",
          "data": {
            "text/plain": "                cidade  relatos\n0              Phoenix      366\n1            Las Vegas      338\n2              Seattle      323\n3             Portland      318\n4            San Diego      272\n...                ...      ...\n1450            Felton       10\n1451  North Providence       10\n1452            Sylmar       10\n1453       Port Orange       10\n1454        Lake Villa       10\n\n[1455 rows x 2 columns]",
            "text/html": "<div>\n<style scoped>\n    .dataframe tbody tr th:only-of-type {\n        vertical-align: middle;\n    }\n\n    .dataframe tbody tr th {\n        vertical-align: top;\n    }\n\n    .dataframe thead th {\n        text-align: right;\n    }\n</style>\n<table border=\"1\" class=\"dataframe\">\n  <thead>\n    <tr style=\"text-align: right;\">\n      <th></th>\n      <th>cidade</th>\n      <th>relatos</th>\n    </tr>\n  </thead>\n  <tbody>\n    <tr>\n      <th>0</th>\n      <td>Phoenix</td>\n      <td>366</td>\n    </tr>\n    <tr>\n      <th>1</th>\n      <td>Las Vegas</td>\n      <td>338</td>\n    </tr>\n    <tr>\n      <th>2</th>\n      <td>Seattle</td>\n      <td>323</td>\n    </tr>\n    <tr>\n      <th>3</th>\n      <td>Portland</td>\n      <td>318</td>\n    </tr>\n    <tr>\n      <th>4</th>\n      <td>San Diego</td>\n      <td>272</td>\n    </tr>\n    <tr>\n      <th>...</th>\n      <td>...</td>\n      <td>...</td>\n    </tr>\n    <tr>\n      <th>1450</th>\n      <td>Felton</td>\n      <td>10</td>\n    </tr>\n    <tr>\n      <th>1451</th>\n      <td>North Providence</td>\n      <td>10</td>\n    </tr>\n    <tr>\n      <th>1452</th>\n      <td>Sylmar</td>\n      <td>10</td>\n    </tr>\n    <tr>\n      <th>1453</th>\n      <td>Port Orange</td>\n      <td>10</td>\n    </tr>\n    <tr>\n      <th>1454</th>\n      <td>Lake Villa</td>\n      <td>10</td>\n    </tr>\n  </tbody>\n</table>\n<p>1455 rows × 2 columns</p>\n</div>"
          },
          "metadata": {},
          "execution_count": 13
        }
      ]
    },
    {
      "cell_type": "markdown",
      "metadata": {
        "id": "v3mL-2iHJ2NH",
        "colab_type": "text"
      },
      "source": [
        "\n",
        "\n",
        "---\n",
        "\n"
      ]
    },
    {
      "cell_type": "markdown",
      "metadata": {
        "id": "Pk8GAMsHGphG",
        "colab_type": "text"
      },
      "source": [
        "**6. Com o dado anterior, responder a seguinte pergunta: por que será que essa é a cidade que possui mais relatos?**\n",
        "\n",
        "Em 13 de março de 1997, mais de 20 mil pessoas testemunharam diversos objetos o céu, o que ficou conhecido como \"Luzes de Phoenix\" e originou o filme \"**O Segredo do Céu**\", de 2007.\n",
        "\n",
        "O filme sobre o acontecimento, pode ter contribuido para o fato não cair no esquecimento e por outro lado pode deturpar a seriedade dos investigadores sobre o assunto.\n",
        "\n",
        "Isso pode ter aumentado o foco na região e influenciado nos números que temos atualmente.\n",
        "\n"
      ]
    },
    {
      "cell_type": "markdown",
      "metadata": {
        "id": "fdyC1PGVJzLJ",
        "colab_type": "text"
      },
      "source": [
        "\n",
        "\n",
        "---\n",
        "\n"
      ]
    },
    {
      "cell_type": "markdown",
      "metadata": {
        "id": "0Upi60_HA_aD",
        "colab_type": "text"
      },
      "source": [
        "Limitando a análise aos Estados Unidos"
      ]
    },
    {
      "cell_type": "code",
      "metadata": {
        "id": "kvOOv01kCvxb",
        "colab_type": "code",
        "colab": {}
      },
      "source": [
        "#Lista de estados dos Estados Unidos\n",
        "states_eua = ['AK','AL','AR','AZ','CA','CO','CT','DE','FL','GA','HI','IA','ID','IL',\n",
        "'IN','KS','KY','LA','MA','MD','ME','MI','MN','MO','MS','MT','NC','ND','NE','NH','NJ','NM',\n",
        "'NV','NY','OH','OK','OR','PA','RI','SC','SD','TN','TX','UT','VA','VT','WA','WI','WV','WY']\n",
        "lista_eua = []\n",
        "\n",
        "for i in range(len(ovnis_limpo)):\n",
        "    if(ovnis_limpo.iloc[i,2] in states_eua):\n",
        "        lista_eua.append(ovnis_limpo.iloc[i])"
      ],
      "execution_count": 14,
      "outputs": []
    },
    {
      "cell_type": "code",
      "metadata": {
        "id": "2KmJlgSmnQAh",
        "colab_type": "code",
        "colab": {
          "base_uri": "https://localhost:8080/",
          "height": 204
        },
        "outputId": "f8b46abf-b767-443a-ee27-4807e7a0df9e"
      },
      "source": [
        "ovnis_eua = pd.DataFrame(lista_eua).reset_index(drop= True)\n",
        "ovnis_eua.head()"
      ],
      "execution_count": 15,
      "outputs": [
        {
          "output_type": "execute_result",
          "data": {
            "text/plain": "       date_time             city state      shape     duration  \\\n0  9/22/97 20:00  Solomons Island    MD       Disk   10 minutes   \n1        9/19/97     Garden Grove    CA  Rectangle      4 mins.   \n2  9/18/97 20:15      Panama City    FL    Unknown   30 seconds   \n3  9/15/97 00:00          Houston    TX       Disk    5 minutes   \n4  9/15/97 20:00         Santa Fe    NM      Light  2-3 minutes   \n\n                                             summary   posted  \n0              Close up at twilight, Stationary UFO.   8/5/09  \n1  Around 6:30 PM I was walking through a Vons Pa...  12/1/19  \n2  Looked like stars in the sky so far up/moveing...  3/13/12  \n3  Beautiful silver-colored flying saucer about t...  7/19/10  \n4  Saw white dot of light moving in zig-zag motio...  11/9/17  ",
            "text/html": "<div>\n<style scoped>\n    .dataframe tbody tr th:only-of-type {\n        vertical-align: middle;\n    }\n\n    .dataframe tbody tr th {\n        vertical-align: top;\n    }\n\n    .dataframe thead th {\n        text-align: right;\n    }\n</style>\n<table border=\"1\" class=\"dataframe\">\n  <thead>\n    <tr style=\"text-align: right;\">\n      <th></th>\n      <th>date_time</th>\n      <th>city</th>\n      <th>state</th>\n      <th>shape</th>\n      <th>duration</th>\n      <th>summary</th>\n      <th>posted</th>\n    </tr>\n  </thead>\n  <tbody>\n    <tr>\n      <th>0</th>\n      <td>9/22/97 20:00</td>\n      <td>Solomons Island</td>\n      <td>MD</td>\n      <td>Disk</td>\n      <td>10 minutes</td>\n      <td>Close up at twilight, Stationary UFO.</td>\n      <td>8/5/09</td>\n    </tr>\n    <tr>\n      <th>1</th>\n      <td>9/19/97</td>\n      <td>Garden Grove</td>\n      <td>CA</td>\n      <td>Rectangle</td>\n      <td>4 mins.</td>\n      <td>Around 6:30 PM I was walking through a Vons Pa...</td>\n      <td>12/1/19</td>\n    </tr>\n    <tr>\n      <th>2</th>\n      <td>9/18/97 20:15</td>\n      <td>Panama City</td>\n      <td>FL</td>\n      <td>Unknown</td>\n      <td>30 seconds</td>\n      <td>Looked like stars in the sky so far up/moveing...</td>\n      <td>3/13/12</td>\n    </tr>\n    <tr>\n      <th>3</th>\n      <td>9/15/97 00:00</td>\n      <td>Houston</td>\n      <td>TX</td>\n      <td>Disk</td>\n      <td>5 minutes</td>\n      <td>Beautiful silver-colored flying saucer about t...</td>\n      <td>7/19/10</td>\n    </tr>\n    <tr>\n      <th>4</th>\n      <td>9/15/97 20:00</td>\n      <td>Santa Fe</td>\n      <td>NM</td>\n      <td>Light</td>\n      <td>2-3 minutes</td>\n      <td>Saw white dot of light moving in zig-zag motio...</td>\n      <td>11/9/17</td>\n    </tr>\n  </tbody>\n</table>\n</div>"
          },
          "metadata": {},
          "execution_count": 15
        }
      ]
    },
    {
      "cell_type": "code",
      "metadata": {
        "id": "Gh_--yvzpV9y",
        "colab_type": "code",
        "colab": {}
      },
      "source": [
        "#Criando CSV após limpeza e análise dos dados\n",
        "ovnis_eua.to_csv('OVNIS_EUA.csv', index=False)"
      ],
      "execution_count": null,
      "outputs": []
    },
    {
      "cell_type": "markdown",
      "metadata": {
        "id": "SoB-MTiiDcBI",
        "colab_type": "text"
      },
      "source": [
        "Comparando as quantidades antiga e nova"
      ]
    },
    {
      "cell_type": "code",
      "metadata": {
        "id": "-HXUWCd8DTzU",
        "colab_type": "code",
        "colab": {
          "base_uri": "https://localhost:8080/",
          "height": 34
        },
        "outputId": "195527af-de39-4616-d038-66250a23c133"
      },
      "source": [
        "#antiga\n",
        "len(ovnis_limpo)"
      ],
      "execution_count": null,
      "outputs": []
    },
    {
      "cell_type": "code",
      "metadata": {
        "id": "f0jxG-ZeD8oF",
        "colab_type": "code",
        "colab": {
          "base_uri": "https://localhost:8080/",
          "height": 34
        },
        "outputId": "536a7016-f5f4-404f-82a5-b61985df393f"
      },
      "source": [
        "#nova\n",
        "len(ovnis_eua)"
      ],
      "execution_count": null,
      "outputs": []
    },
    {
      "cell_type": "markdown",
      "metadata": {
        "id": "fEops-c7KKWs",
        "colab_type": "text"
      },
      "source": [
        "\n",
        "\n",
        "---\n",
        "\n"
      ]
    },
    {
      "cell_type": "markdown",
      "metadata": {
        "id": "F2SqlkXIKODP",
        "colab_type": "text"
      },
      "source": [
        "Fazer uma query exclusiva para o estado com maior número de relatos, buscando cidades que possuam um número superior a 10 relatórios. Enfatizar a cidade, a quantidade de relatos e formato do objeto não identificado."
      ]
    },
    {
      "cell_type": "markdown",
      "metadata": {
        "id": "-t9qxnXEKQI5",
        "colab_type": "text"
      },
      "source": [
        "\n",
        "\n",
        "---\n",
        "\n"
      ]
    },
    {
      "cell_type": "code",
      "metadata": {
        "id": "z5zMKRMKLaTg",
        "colab_type": "code",
        "colab": {
          "base_uri": "https://localhost:8080/",
          "height": 80
        },
        "outputId": "fc64192d-a80d-4634-e639-e2a157101f49"
      },
      "source": [
        "#estado com o maior número de relatos\n",
        "qtd_relatos_estados.head(1)"
      ],
      "execution_count": null,
      "outputs": []
    },
    {
      "cell_type": "markdown",
      "metadata": {
        "id": "yiChpm1UMRcm",
        "colab_type": "text"
      },
      "source": [
        "CA --> ESTADO DA CALIFÓRNIA (7911 relatos)"
      ]
    },
    {
      "cell_type": "code",
      "metadata": {
        "id": "g1297EOSNVyu",
        "colab_type": "code",
        "colab": {
          "base_uri": "https://localhost:8080/",
          "height": 419
        },
        "outputId": "7fcab506-d6cd-4868-f01b-a97a2c2cf183"
      },
      "source": [
        "#fazendo a query exclusiva\n",
        "\n",
        "#filtro para a cidade da Califórnia\n",
        "ca = OVNIS_EUA.query(\"state == 'CA'\").reset_index()\n",
        "cidades_ca = ca.city.value_counts().to_frame().reset_index()\n",
        "\n",
        "#filtro das cidades com quantidade relatos maior que 10\n",
        "cidades_ca.columns = ['cidade', 'relatos']\n",
        "qtd_relatos_cidades_ca = cidades_ca.query(\"relatos >= 10\")\n",
        "qtd_relatos_cidades_ca"
      ],
      "execution_count": null,
      "outputs": []
    },
    {
      "source": [
        "## Não foi possível colocar o tipo do objeto, pois cada cidade tem mais de um relato e diferentes tipos de objetos"
      ],
      "cell_type": "markdown",
      "metadata": {}
    }
  ]
}