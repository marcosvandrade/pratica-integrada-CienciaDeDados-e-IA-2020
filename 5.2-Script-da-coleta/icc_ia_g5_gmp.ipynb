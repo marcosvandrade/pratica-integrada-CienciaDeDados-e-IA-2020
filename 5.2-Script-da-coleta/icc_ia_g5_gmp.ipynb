{
  "nbformat": 4,
  "nbformat_minor": 0,
  "metadata": {
    "colab": {
      "name": "ICC_IA_G5 - GMP.ipynb",
      "provenance": [],
      "collapsed_sections": []
    },
    "kernelspec": {
      "name": "python_defaultSpec_1600357260611",
      "display_name": "Python 3.8.2 64-bit"
    }
  },
  "cells": [
    {
      "cell_type": "markdown",
      "metadata": {
        "id": "jTCzlsFYWGRK",
        "colab_type": "text"
      },
      "source": [
        "Nesse módulo, o objetivo é descobrir fatos interessantes a partir da coleta de observações de OVINIs, dentro de um período de vinte anos.\n",
        "\n",
        "Nosso desafio consiste em fazer a extração de dados de forma tabular, afinal, para que os dados possam ser analisados eles acabam se tornando tabelas. Como iremos extrair vinte anos de dados, consultaremos 240 páginas web, uma por cada mês, por vinte anos, entre setembro 1997 e agosto de 2017.\n",
        "\n",
        "Sugestões de bibliotecas para essa etapa:\n",
        "- requests: biblioteca para execução de requisições HTTP;\n",
        "- BeautifulSoup: biblioteca para extração de dados em arquivos HTML e XML;\n",
        "- Pandas: biblioteca para armazenar, limpar e salvar os dados em forma de tabela."
      ]
    },
    {
      "cell_type": "markdown",
      "metadata": {
        "id": "ENyHEj67dpzA",
        "colab_type": "text"
      },
      "source": [
        "Importando as bibliotecas"
      ]
    },
    {
      "cell_type": "code",
      "metadata": {
        "id": "CfMHmV0ndtP_",
        "colab_type": "code",
        "colab": {}
      },
      "source": [
        "from bs4 import BeautifulSoup\n",
        "import requests\n",
        "import pandas as pd\n",
        "import numpy as np"
      ],
      "execution_count": 4,
      "outputs": []
    },
    {
      "cell_type": "markdown",
      "metadata": {
        "id": "6BwqYaM1d61p",
        "colab_type": "text"
      },
      "source": [
        "Armazendando as variáveis e combinando as urls"
      ]
    },
    {
      "cell_type": "code",
      "metadata": {
        "id": "iDAT6WErWJ6h",
        "colab_type": "code",
        "colab": {
          "base_uri": "https://localhost:8080/",
          "height": 34
        },
        "outputId": "f034b1a2-b4e9-4380-f475-af1d1f01e3b3"
      },
      "source": [
        "# armazenando as variáveis com os períodos especificados\n",
        "years_months = [199709,199710,199711,199712,\n",
        "             199801,199802,199803,199804,199805,199806,199807,199808,199809,199810,199811,199812,\n",
        "             199901,199902,199903,199904,199905,199906,199907,199908,199909,199910,199911,199912,\n",
        "             200001,200002,200003,200004,200005,200006,200007,200008,200009,200010,200011,200012,\n",
        "             200101,200102,200103,200104,200105,200106,200107,200108,200109,200110,200111,200112,\n",
        "             200201,200202,200203,200204,200205,200206,200207,200208,200209,200210,200211,200212,\n",
        "             200301,200302,200303,200304,200305,200306,200307,200308,200309,200310,200311,200312,\n",
        "             200401,200402,200403,200404,200405,200406,200407,200408,200409,200410,200411,200412,\n",
        "             200501,200502,200503,200504,200505,200506,200507,200508,200509,200510,200511,200512,\n",
        "             200601,200602,200603,200604,200605,200606,200607,200608,200609,200610,200611,200612,\n",
        "             200701,200702,200703,200704,200705,200706,200707,200708,200709,200710,200711,200712,\n",
        "             200801,200802,200803,200804,200805,200806,200807,200808,200809,200810,200811,200812,\n",
        "             200901,200902,200903,200904,200905,200906,200907,200908,200909,200910,200911,200912,\n",
        "             201001,201002,201003,201004,201005,201006,201007,201008,201009,201010,201011,201012,\n",
        "             201101,201102,201103,201104,201105,201106,201107,201108,201109,201110,201111,201112,\n",
        "             201201,201202,201203,201204,201205,201206,201207,201208,201209,201210,201211,201212,\n",
        "             201301,201302,201303,201304,201305,201306,201307,201308,201309,201310,201311,201312,\n",
        "             201401,201402,201403,201404,201405,201406,201407,201408,201409,201410,201411,201412,\n",
        "             201501,201502,201503,201504,201505,201506,201507,201508,201509,201510,201511,201512,\n",
        "             201601,201602,201603,201604,201605,201606,201607,201608,201609,201610,201611,201612,\n",
        "             201701,201702,201703,201704,201705,201706,201707,201708]\n",
        "\n",
        "# combinando as urls com os períodos\n",
        "str = 'http://www.nuforc.org/webreports/ndxe{}.html'\n",
        "\n",
        "urls = []\n",
        "for year_month in years_months:\n",
        "  urls.append(str.format(year_month))"
      ],
      "execution_count": 13,
      "outputs": []
    },
    {
      "cell_type": "code",
      "metadata": {
        "id": "mn569ZqACQSp",
        "colab_type": "code",
        "colab": {}
      },
      "source": [
        "#Adicionando todas as tabelas em uma lista\n",
        "dfo = []\n",
        "for url in urls:\n",
        "  df = pd.read_html(url, header = 0)\n",
        "  dfo.append(df[0])"
      ],
      "execution_count": 3,
      "outputs": []
    },
    {
      "cell_type": "code",
      "metadata": {
        "id": "sMBK6BR0CTU0",
        "colab_type": "code",
        "colab": {
          "base_uri": "https://localhost:8080/",
          "height": 510
        },
        "outputId": "d3fe56a0-20df-4273-89e3-950d0d968019",
        "tags": []
      },
      "source": [
        "#Organizando as tabelas em um DataFrame\n",
        "ovnis = []\n",
        "ovnis = pd.DataFrame(dfo[0])\n",
        "for ovni in dfo:\n",
        "  if (ovni.equals(dfo[0])):\n",
        "    print()\n",
        "  else:\n",
        "    ovnis = ovnis.append(ovni).reset_index(drop = True)"
      ],
      "execution_count": 5,
      "outputs": [
        {
          "output_type": "stream",
          "name": "stdout",
          "text": "\n"
        }
      ]
    },
    {
      "cell_type": "code",
      "metadata": {
        "id": "BffVhzzzkrOv",
        "colab_type": "code",
        "colab": {
          "base_uri": "https://localhost:8080/",
          "height": 419
        },
        "outputId": "c23a6283-e766-481b-c7d8-043eb641e515"
      },
      "source": [
        "#Criando arquivo CSV\n",
        "ovnis.to_csv('OVNIS.csv', index=False)"
      ],
      "execution_count": 6,
      "outputs": []
    }
  ]
}